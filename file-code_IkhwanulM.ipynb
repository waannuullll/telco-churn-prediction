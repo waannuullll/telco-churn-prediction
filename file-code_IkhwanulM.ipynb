{
  "nbformat": 4,
  "nbformat_minor": 0,
  "metadata": {
    "colab": {
      "name": "final-project-dibimbing.ipynb",
      "provenance": [],
      "collapsed_sections": [],
      "toc_visible": true
    },
    "kernelspec": {
      "display_name": "Python 3",
      "name": "python3"
    },
    "language_info": {
      "name": "python"
    }
  },
  "cells": [
    {
      "cell_type": "markdown",
      "metadata": {
        "id": "X2OLpTQGoRrW"
      },
      "source": [
        "# Churn Prediction - Final Project Dibimbing.id\n",
        "---\n",
        "by: Ikhwanul Muslimin\n",
        "\n",
        "data from: [telecom_users](https://drive.google.com/file/d/1Vqty_NO9tsMaB8q5lu8lstTbH_7dnZ9b/view)\n",
        "\n",
        "features explanation: [Dataset 1](https://docs.google.com/document/d/1cbwOTFzd0qzRWyJcr0YVc-1fTDs3D6aIVgd4megN06A/edit)\n"
      ]
    },
    {
      "cell_type": "markdown",
      "metadata": {
        "id": "Cn3qtgAvIpe5"
      },
      "source": [
        "![picture](https://drive.google.com/uc?export=view&id=1opPlX_lsousbiFZTx76DyveMXfBf2ef9)"
      ]
    },
    {
      "cell_type": "markdown",
      "metadata": {
        "id": "e2YLf-Ef391m"
      },
      "source": [
        "Any business wants to maximize the number of customers. To achieve this goal, it is important not only to try to attract new ones, but also to retain existing ones. \n",
        "\n",
        "Accordingly, predicting the churn, we can react in time and try to keep the client who wants to leave. Based on the data about the services that the client uses, we can make him a special offer, trying to change his decision to leave the operator. This will make the task of retention easier to implement than the task of attracting new users, about which we do not know anything yet.\n",
        "\n",
        "You are provided with a dataset from a telecommunications company. The data contains information about almost six thousand users, their demographic characteristics, the services they use, the duration of using the operator's services, the method of payment, and the amount of payment.\n",
        "\n",
        "The task is to analyze the data and predict the churn of users (to identify people who will and will not renew their contract). "
      ]
    },
    {
      "cell_type": "markdown",
      "metadata": {
        "id": "v4YOCufwGecK"
      },
      "source": [
        "# Import Library and Load Data"
      ]
    },
    {
      "cell_type": "code",
      "metadata": {
        "id": "d-afPMN0G-EQ"
      },
      "source": [
        "# import library for manipulating data\n",
        "import numpy as np\n",
        "import pandas as pd\n",
        "\n",
        "# import library for visualization\n",
        "import matplotlib.pyplot as plt\n",
        "import seaborn as sns\n",
        "\n",
        "# import library for machine learning\n",
        "from sklearn.svm import SVC\n",
        "from sklearn.linear_model import LogisticRegression\n",
        "from sklearn.neighbors import KNeighborsClassifier\n",
        "from sklearn.model_selection import train_test_split, GridSearchCV\n",
        "from sklearn.metrics import accuracy_score, roc_auc_score\n",
        "from sklearn.preprocessing import StandardScaler, PolynomialFeatures\n",
        "\n",
        "# disable warning\n",
        "import gc\n",
        "import warnings\n",
        "warnings.filterwarnings(\"ignore\")"
      ],
      "execution_count": null,
      "outputs": []
    },
    {
      "cell_type": "code",
      "metadata": {
        "colab": {
          "base_uri": "https://localhost:8080/"
        },
        "id": "VNcAQt2dy8T3",
        "outputId": "76a631a5-a72c-448b-9930-e912b0a16792"
      },
      "source": [
        "# mounted google drive\n",
        "import google.colab as GC\n",
        "GC.drive.mount('/content/drive')\n",
        "\n",
        "# change folder\n",
        "%cd '/content/drive/My Drive/datasets'\n",
        "\n",
        "# read the data\n",
        "df = pd.read_csv('telecom_users.csv')"
      ],
      "execution_count": null,
      "outputs": [
        {
          "output_type": "stream",
          "text": [
            "Mounted at /content/drive\n",
            "/content/drive/My Drive/datasets\n"
          ],
          "name": "stdout"
        }
      ]
    },
    {
      "cell_type": "markdown",
      "metadata": {
        "id": "Fc1d7jehI7au"
      },
      "source": [
        "# Exploratory Data Analysis"
      ]
    },
    {
      "cell_type": "markdown",
      "metadata": {
        "id": "8-nwHa5BKjiD"
      },
      "source": [
        "## General Information"
      ]
    },
    {
      "cell_type": "code",
      "metadata": {
        "colab": {
          "base_uri": "https://localhost:8080/",
          "height": 326
        },
        "id": "6ZpCONGHJL5R",
        "outputId": "1bdf9e3c-fca0-47e3-849f-002c8f98435b"
      },
      "source": [
        "# display the first 5 rows of the data\n",
        "df.head()"
      ],
      "execution_count": null,
      "outputs": [
        {
          "output_type": "execute_result",
          "data": {
            "text/html": [
              "<div>\n",
              "<style scoped>\n",
              "    .dataframe tbody tr th:only-of-type {\n",
              "        vertical-align: middle;\n",
              "    }\n",
              "\n",
              "    .dataframe tbody tr th {\n",
              "        vertical-align: top;\n",
              "    }\n",
              "\n",
              "    .dataframe thead th {\n",
              "        text-align: right;\n",
              "    }\n",
              "</style>\n",
              "<table border=\"1\" class=\"dataframe\">\n",
              "  <thead>\n",
              "    <tr style=\"text-align: right;\">\n",
              "      <th></th>\n",
              "      <th>Unnamed: 0</th>\n",
              "      <th>customerID</th>\n",
              "      <th>gender</th>\n",
              "      <th>SeniorCitizen</th>\n",
              "      <th>Partner</th>\n",
              "      <th>Dependents</th>\n",
              "      <th>tenure</th>\n",
              "      <th>PhoneService</th>\n",
              "      <th>MultipleLines</th>\n",
              "      <th>InternetService</th>\n",
              "      <th>OnlineSecurity</th>\n",
              "      <th>OnlineBackup</th>\n",
              "      <th>DeviceProtection</th>\n",
              "      <th>TechSupport</th>\n",
              "      <th>StreamingTV</th>\n",
              "      <th>StreamingMovies</th>\n",
              "      <th>Contract</th>\n",
              "      <th>PaperlessBilling</th>\n",
              "      <th>PaymentMethod</th>\n",
              "      <th>MonthlyCharges</th>\n",
              "      <th>TotalCharges</th>\n",
              "      <th>Churn</th>\n",
              "    </tr>\n",
              "  </thead>\n",
              "  <tbody>\n",
              "    <tr>\n",
              "      <th>0</th>\n",
              "      <td>1869</td>\n",
              "      <td>7010-BRBUU</td>\n",
              "      <td>Male</td>\n",
              "      <td>0</td>\n",
              "      <td>Yes</td>\n",
              "      <td>Yes</td>\n",
              "      <td>72</td>\n",
              "      <td>Yes</td>\n",
              "      <td>Yes</td>\n",
              "      <td>No</td>\n",
              "      <td>No internet service</td>\n",
              "      <td>No internet service</td>\n",
              "      <td>No internet service</td>\n",
              "      <td>No internet service</td>\n",
              "      <td>No internet service</td>\n",
              "      <td>No internet service</td>\n",
              "      <td>Two year</td>\n",
              "      <td>No</td>\n",
              "      <td>Credit card (automatic)</td>\n",
              "      <td>24.10</td>\n",
              "      <td>1734.65</td>\n",
              "      <td>No</td>\n",
              "    </tr>\n",
              "    <tr>\n",
              "      <th>1</th>\n",
              "      <td>4528</td>\n",
              "      <td>9688-YGXVR</td>\n",
              "      <td>Female</td>\n",
              "      <td>0</td>\n",
              "      <td>No</td>\n",
              "      <td>No</td>\n",
              "      <td>44</td>\n",
              "      <td>Yes</td>\n",
              "      <td>No</td>\n",
              "      <td>Fiber optic</td>\n",
              "      <td>No</td>\n",
              "      <td>Yes</td>\n",
              "      <td>Yes</td>\n",
              "      <td>No</td>\n",
              "      <td>Yes</td>\n",
              "      <td>No</td>\n",
              "      <td>Month-to-month</td>\n",
              "      <td>Yes</td>\n",
              "      <td>Credit card (automatic)</td>\n",
              "      <td>88.15</td>\n",
              "      <td>3973.2</td>\n",
              "      <td>No</td>\n",
              "    </tr>\n",
              "    <tr>\n",
              "      <th>2</th>\n",
              "      <td>6344</td>\n",
              "      <td>9286-DOJGF</td>\n",
              "      <td>Female</td>\n",
              "      <td>1</td>\n",
              "      <td>Yes</td>\n",
              "      <td>No</td>\n",
              "      <td>38</td>\n",
              "      <td>Yes</td>\n",
              "      <td>Yes</td>\n",
              "      <td>Fiber optic</td>\n",
              "      <td>No</td>\n",
              "      <td>No</td>\n",
              "      <td>No</td>\n",
              "      <td>No</td>\n",
              "      <td>No</td>\n",
              "      <td>No</td>\n",
              "      <td>Month-to-month</td>\n",
              "      <td>Yes</td>\n",
              "      <td>Bank transfer (automatic)</td>\n",
              "      <td>74.95</td>\n",
              "      <td>2869.85</td>\n",
              "      <td>Yes</td>\n",
              "    </tr>\n",
              "    <tr>\n",
              "      <th>3</th>\n",
              "      <td>6739</td>\n",
              "      <td>6994-KERXL</td>\n",
              "      <td>Male</td>\n",
              "      <td>0</td>\n",
              "      <td>No</td>\n",
              "      <td>No</td>\n",
              "      <td>4</td>\n",
              "      <td>Yes</td>\n",
              "      <td>No</td>\n",
              "      <td>DSL</td>\n",
              "      <td>No</td>\n",
              "      <td>No</td>\n",
              "      <td>No</td>\n",
              "      <td>No</td>\n",
              "      <td>No</td>\n",
              "      <td>Yes</td>\n",
              "      <td>Month-to-month</td>\n",
              "      <td>Yes</td>\n",
              "      <td>Electronic check</td>\n",
              "      <td>55.90</td>\n",
              "      <td>238.5</td>\n",
              "      <td>No</td>\n",
              "    </tr>\n",
              "    <tr>\n",
              "      <th>4</th>\n",
              "      <td>432</td>\n",
              "      <td>2181-UAESM</td>\n",
              "      <td>Male</td>\n",
              "      <td>0</td>\n",
              "      <td>No</td>\n",
              "      <td>No</td>\n",
              "      <td>2</td>\n",
              "      <td>Yes</td>\n",
              "      <td>No</td>\n",
              "      <td>DSL</td>\n",
              "      <td>Yes</td>\n",
              "      <td>No</td>\n",
              "      <td>Yes</td>\n",
              "      <td>No</td>\n",
              "      <td>No</td>\n",
              "      <td>No</td>\n",
              "      <td>Month-to-month</td>\n",
              "      <td>No</td>\n",
              "      <td>Electronic check</td>\n",
              "      <td>53.45</td>\n",
              "      <td>119.5</td>\n",
              "      <td>No</td>\n",
              "    </tr>\n",
              "  </tbody>\n",
              "</table>\n",
              "</div>"
            ],
            "text/plain": [
              "   Unnamed: 0  customerID  gender  ...  MonthlyCharges TotalCharges Churn\n",
              "0        1869  7010-BRBUU    Male  ...           24.10      1734.65    No\n",
              "1        4528  9688-YGXVR  Female  ...           88.15       3973.2    No\n",
              "2        6344  9286-DOJGF  Female  ...           74.95      2869.85   Yes\n",
              "3        6739  6994-KERXL    Male  ...           55.90        238.5    No\n",
              "4         432  2181-UAESM    Male  ...           53.45        119.5    No\n",
              "\n",
              "[5 rows x 22 columns]"
            ]
          },
          "metadata": {
            "tags": []
          },
          "execution_count": 3
        }
      ]
    },
    {
      "cell_type": "code",
      "metadata": {
        "colab": {
          "base_uri": "https://localhost:8080/"
        },
        "id": "fZt26YJCJSwt",
        "outputId": "39c2c19c-4b72-4bff-f92d-b13d99d9747b"
      },
      "source": [
        "# simple data checking - get dataframe general information\n",
        "df.info()"
      ],
      "execution_count": null,
      "outputs": [
        {
          "output_type": "stream",
          "text": [
            "<class 'pandas.core.frame.DataFrame'>\n",
            "RangeIndex: 5986 entries, 0 to 5985\n",
            "Data columns (total 22 columns):\n",
            " #   Column            Non-Null Count  Dtype  \n",
            "---  ------            --------------  -----  \n",
            " 0   Unnamed: 0        5986 non-null   int64  \n",
            " 1   customerID        5986 non-null   object \n",
            " 2   gender            5986 non-null   object \n",
            " 3   SeniorCitizen     5986 non-null   int64  \n",
            " 4   Partner           5986 non-null   object \n",
            " 5   Dependents        5986 non-null   object \n",
            " 6   tenure            5986 non-null   int64  \n",
            " 7   PhoneService      5986 non-null   object \n",
            " 8   MultipleLines     5986 non-null   object \n",
            " 9   InternetService   5986 non-null   object \n",
            " 10  OnlineSecurity    5986 non-null   object \n",
            " 11  OnlineBackup      5986 non-null   object \n",
            " 12  DeviceProtection  5986 non-null   object \n",
            " 13  TechSupport       5986 non-null   object \n",
            " 14  StreamingTV       5986 non-null   object \n",
            " 15  StreamingMovies   5986 non-null   object \n",
            " 16  Contract          5986 non-null   object \n",
            " 17  PaperlessBilling  5986 non-null   object \n",
            " 18  PaymentMethod     5986 non-null   object \n",
            " 19  MonthlyCharges    5986 non-null   float64\n",
            " 20  TotalCharges      5986 non-null   object \n",
            " 21  Churn             5986 non-null   object \n",
            "dtypes: float64(1), int64(3), object(18)\n",
            "memory usage: 1.0+ MB\n"
          ],
          "name": "stdout"
        }
      ]
    },
    {
      "cell_type": "markdown",
      "metadata": {
        "id": "gbnkQ5bnoyvv"
      },
      "source": [
        "## Column Explanation\n",
        "\n",
        "* customerID - customer id\n",
        "* gender - client gender (male / female)\n",
        "* SeniorCitizen - is the client retired (1, 0)\n",
        "* Partner - is the client married (Yes, No)\n",
        "* tenure - how many months a person has been a client of the company\n",
        "* PhoneService - is the telephone service connected (Yes, No)\n",
        "* MultipleLines - are multiple phone lines connected (Yes, No, No phone service)\n",
        "* InternetService - client's Internet service provider (DSL, Fiber optic, No)\n",
        "* OnlineSecurity - is the online security service connected (Yes, No, No internet service)\n",
        "* OnlineBackup - is the online backup service activated (Yes, No, No internet service)\n",
        "* DeviceProtection - does the client have equipment insurance (Yes, No, No internet service)\n",
        "* TechSupport - is the technical support service connected (Yes, No, No internet service)\n",
        "* StreamingTV - is the streaming TV service connected (Yes, No, No internet service)\n",
        "* StreamingMovies - is the streaming cinema service activated (Yes, No, No internet service)\n",
        "* Contract - type of customer contract (Month-to-month, One year, Two year)\n",
        "* PaperlessBilling - whether the client uses paperless billing (Yes, No)\n",
        "* PaymentMethod - payment method (Electronic check, Mailed check, Bank transfer (automatic), Credit card (automatic))\n",
        "* MonthlyCharges - current monthly payment\n",
        "* TotalCharges - the total amount that the client paid for the services for the entire time\n",
        "* Churn - whether there was a churn (Yes or No)\n"
      ]
    },
    {
      "cell_type": "markdown",
      "metadata": {
        "id": "fTUB0Zj0UK6A"
      },
      "source": [
        "## Data Cleaning"
      ]
    },
    {
      "cell_type": "markdown",
      "metadata": {
        "id": "M32ExyFAVY6m"
      },
      "source": [
        "### Delete Unnecessary Columns"
      ]
    },
    {
      "cell_type": "code",
      "metadata": {
        "id": "lenz3K1_VvYk"
      },
      "source": [
        "# drup unnamed and customerID columns\n",
        "df.drop(['Unnamed: 0','customerID'],axis=1,inplace=True)"
      ],
      "execution_count": null,
      "outputs": []
    },
    {
      "cell_type": "markdown",
      "metadata": {
        "id": "7kOhsbq-UOaP"
      },
      "source": [
        "### Changing Data Type"
      ]
    },
    {
      "cell_type": "code",
      "metadata": {
        "id": "z9RZbPCtTvmY"
      },
      "source": [
        "# change SeniorCitizen data type\n",
        "df['SeniorCitizen'] = df['SeniorCitizen'].astype('object')\n",
        "# change TotalCharges data type\n",
        "df['TotalCharges'] = pd.to_numeric(df['TotalCharges'],errors='coerce')"
      ],
      "execution_count": null,
      "outputs": []
    },
    {
      "cell_type": "markdown",
      "metadata": {
        "id": "sARzEWTWURFD"
      },
      "source": [
        "### Checking Null Values"
      ]
    },
    {
      "cell_type": "code",
      "metadata": {
        "colab": {
          "base_uri": "https://localhost:8080/"
        },
        "id": "LU57rXO4UURL",
        "outputId": "72f1c5ce-d1e1-49e2-869b-af5091f17ec2"
      },
      "source": [
        "# count for null values in each columns\n",
        "df.isnull().sum()"
      ],
      "execution_count": null,
      "outputs": [
        {
          "output_type": "execute_result",
          "data": {
            "text/plain": [
              "gender               0\n",
              "SeniorCitizen        0\n",
              "Partner              0\n",
              "Dependents           0\n",
              "tenure               0\n",
              "PhoneService         0\n",
              "MultipleLines        0\n",
              "InternetService      0\n",
              "OnlineSecurity       0\n",
              "OnlineBackup         0\n",
              "DeviceProtection     0\n",
              "TechSupport          0\n",
              "StreamingTV          0\n",
              "StreamingMovies      0\n",
              "Contract             0\n",
              "PaperlessBilling     0\n",
              "PaymentMethod        0\n",
              "MonthlyCharges       0\n",
              "TotalCharges        10\n",
              "Churn                0\n",
              "dtype: int64"
            ]
          },
          "metadata": {
            "tags": []
          },
          "execution_count": 7
        }
      ]
    },
    {
      "cell_type": "code",
      "metadata": {
        "id": "7OLoX6j-UiAH"
      },
      "source": [
        "# replace nan values with the real price\n",
        "df['TotalCharges'].fillna(df['tenure']*df['MonthlyCharges'],inplace=True)"
      ],
      "execution_count": null,
      "outputs": []
    },
    {
      "cell_type": "markdown",
      "metadata": {
        "id": "dWK1MQ7bfMcb"
      },
      "source": [
        "### Checking Outlier\n",
        "\n",
        "The outlier in <code>TotalCharges</code> is still understandable because it is still in range."
      ]
    },
    {
      "cell_type": "code",
      "metadata": {
        "colab": {
          "base_uri": "https://localhost:8080/",
          "height": 334
        },
        "id": "0RM93PEqfOEE",
        "outputId": "e47fe631-c277-408f-c1df-87049161bff6"
      },
      "source": [
        "# check outlier via boxplot\n",
        "fig = plt.figure(figsize=(17,5))\n",
        "ax1 = fig.add_subplot(1,3,1)\n",
        "sns.boxplot(x='Churn',y='tenure',data=df,ax=ax1)\n",
        "ax2 = fig.add_subplot(1,3,2)\n",
        "sns.boxplot(x='Churn',y='MonthlyCharges',data=df,ax=ax2)\n",
        "ax3 = fig.add_subplot(1,3,3)\n",
        "sns.boxplot(x='Churn',y='TotalCharges',data=df,ax=ax3)"
      ],
      "execution_count": null,
      "outputs": [
        {
          "output_type": "execute_result",
          "data": {
            "text/plain": [
              "<matplotlib.axes._subplots.AxesSubplot at 0x7fe2f270b750>"
            ]
          },
          "metadata": {
            "tags": []
          },
          "execution_count": 9
        },
        {
          "output_type": "display_data",
          "data": {
            "image/png": "[encoded data removed]",
            "text/plain": [
              "<Figure size 1224x360 with 3 Axes>"
            ]
          },
          "metadata": {
            "tags": []
          }
        }
      ]
    },
    {
      "cell_type": "markdown",
      "metadata": {
        "id": "VgGNlT2Gaw87"
      },
      "source": [
        "## Exploratory Analysis"
      ]
    },
    {
      "cell_type": "markdown",
      "metadata": {
        "id": "AU4b9fih4cWr"
      },
      "source": [
        "### Overall Churn"
      ]
    },
    {
      "cell_type": "markdown",
      "metadata": {
        "id": "uYE2fDt-_dk9"
      },
      "source": [
        "Unbalanced target:"
      ]
    },
    {
      "cell_type": "code",
      "metadata": {
        "colab": {
          "base_uri": "https://localhost:8080/",
          "height": 296
        },
        "id": "fm1os9xD4eQk",
        "outputId": "fdca8167-b1b1-4443-92b1-49ba71ac9f9a"
      },
      "source": [
        "sns.countplot(y='Churn',data=df)"
      ],
      "execution_count": null,
      "outputs": [
        {
          "output_type": "execute_result",
          "data": {
            "text/plain": [
              "<matplotlib.axes._subplots.AxesSubplot at 0x7fe2f2fde250>"
            ]
          },
          "metadata": {
            "tags": []
          },
          "execution_count": 10
        },
        {
          "output_type": "display_data",
          "data": {
            "image/png": "[encoded data removed]",
            "text/plain": [
              "<Figure size 432x288 with 1 Axes>"
            ]
          },
          "metadata": {
            "tags": []
          }
        }
      ]
    },
    {
      "cell_type": "code",
      "metadata": {
        "colab": {
          "base_uri": "https://localhost:8080/"
        },
        "id": "7c4WbsD_lOmu",
        "outputId": "ff502a7c-066b-4ec7-9201-c54de50a0f08"
      },
      "source": [
        "df.Churn.value_counts()"
      ],
      "execution_count": null,
      "outputs": [
        {
          "output_type": "execute_result",
          "data": {
            "text/plain": [
              "No     4399\n",
              "Yes    1587\n",
              "Name: Churn, dtype: int64"
            ]
          },
          "metadata": {
            "tags": []
          },
          "execution_count": 11
        }
      ]
    },
    {
      "cell_type": "markdown",
      "metadata": {
        "id": "CAhk5YLya5JC"
      },
      "source": [
        "### Statistical Summary\n",
        "\n",
        "* The longer the customer stays with us, the greater your total spend.\n",
        "* Customers with higher monthly value, represent higher revenue.\n",
        "* No relation between the months of the house, and the increase of the monthly payments."
      ]
    },
    {
      "cell_type": "code",
      "metadata": {
        "colab": {
          "base_uri": "https://localhost:8080/",
          "height": 297
        },
        "id": "1pLl5ORXa1dh",
        "outputId": "e346a94c-8afc-4b3d-b952-ee0b50f746f1"
      },
      "source": [
        "# check summary statistics\n",
        "df.describe().round(2)"
      ],
      "execution_count": null,
      "outputs": [
        {
          "output_type": "execute_result",
          "data": {
            "text/html": [
              "<div>\n",
              "<style scoped>\n",
              "    .dataframe tbody tr th:only-of-type {\n",
              "        vertical-align: middle;\n",
              "    }\n",
              "\n",
              "    .dataframe tbody tr th {\n",
              "        vertical-align: top;\n",
              "    }\n",
              "\n",
              "    .dataframe thead th {\n",
              "        text-align: right;\n",
              "    }\n",
              "</style>\n",
              "<table border=\"1\" class=\"dataframe\">\n",
              "  <thead>\n",
              "    <tr style=\"text-align: right;\">\n",
              "      <th></th>\n",
              "      <th>tenure</th>\n",
              "      <th>MonthlyCharges</th>\n",
              "      <th>TotalCharges</th>\n",
              "    </tr>\n",
              "  </thead>\n",
              "  <tbody>\n",
              "    <tr>\n",
              "      <th>count</th>\n",
              "      <td>5986.00</td>\n",
              "      <td>5986.00</td>\n",
              "      <td>5986.00</td>\n",
              "    </tr>\n",
              "    <tr>\n",
              "      <th>mean</th>\n",
              "      <td>32.47</td>\n",
              "      <td>64.80</td>\n",
              "      <td>2294.22</td>\n",
              "    </tr>\n",
              "    <tr>\n",
              "      <th>std</th>\n",
              "      <td>24.52</td>\n",
              "      <td>30.11</td>\n",
              "      <td>2274.16</td>\n",
              "    </tr>\n",
              "    <tr>\n",
              "      <th>min</th>\n",
              "      <td>0.00</td>\n",
              "      <td>18.25</td>\n",
              "      <td>0.00</td>\n",
              "    </tr>\n",
              "    <tr>\n",
              "      <th>25%</th>\n",
              "      <td>9.00</td>\n",
              "      <td>35.65</td>\n",
              "      <td>401.59</td>\n",
              "    </tr>\n",
              "    <tr>\n",
              "      <th>50%</th>\n",
              "      <td>29.00</td>\n",
              "      <td>70.40</td>\n",
              "      <td>1408.58</td>\n",
              "    </tr>\n",
              "    <tr>\n",
              "      <th>75%</th>\n",
              "      <td>56.00</td>\n",
              "      <td>89.90</td>\n",
              "      <td>3841.50</td>\n",
              "    </tr>\n",
              "    <tr>\n",
              "      <th>max</th>\n",
              "      <td>72.00</td>\n",
              "      <td>118.75</td>\n",
              "      <td>8684.80</td>\n",
              "    </tr>\n",
              "  </tbody>\n",
              "</table>\n",
              "</div>"
            ],
            "text/plain": [
              "        tenure  MonthlyCharges  TotalCharges\n",
              "count  5986.00         5986.00       5986.00\n",
              "mean     32.47           64.80       2294.22\n",
              "std      24.52           30.11       2274.16\n",
              "min       0.00           18.25          0.00\n",
              "25%       9.00           35.65        401.59\n",
              "50%      29.00           70.40       1408.58\n",
              "75%      56.00           89.90       3841.50\n",
              "max      72.00          118.75       8684.80"
            ]
          },
          "metadata": {
            "tags": []
          },
          "execution_count": 12
        }
      ]
    },
    {
      "cell_type": "code",
      "metadata": {
        "colab": {
          "base_uri": "https://localhost:8080/",
          "height": 584
        },
        "id": "OLezAcUCbVW3",
        "outputId": "ce2ef5f5-ce57-4302-e0c8-a208ec1278d9"
      },
      "source": [
        "# make new dataframe which consist of columns with numerics data type\n",
        "df_num = df[['tenure','MonthlyCharges','TotalCharges','Churn']]\n",
        "\n",
        "# function to hide upper triangle\n",
        "def hide_current_axis(*args, **kwds):\n",
        "    plt.gca().set_visible(False)\n",
        "\n",
        "# plot the relation in each columns\n",
        "plt.figure(figsize = (15,10))\n",
        "g = sns.PairGrid(df_num,hue='Churn')\n",
        "g.map_lower(sns.scatterplot, alpha=0.5, edgecolor='none')\n",
        "g.map_diag(sns.histplot, multiple=\"stack\", element=\"step\")\n",
        "g.map_upper(hide_current_axis)\n",
        "g.add_legend()"
      ],
      "execution_count": null,
      "outputs": [
        {
          "output_type": "execute_result",
          "data": {
            "text/plain": [
              "<seaborn.axisgrid.PairGrid at 0x7f2d44b53610>"
            ]
          },
          "metadata": {
            "tags": []
          },
          "execution_count": 15
        },
        {
          "output_type": "display_data",
          "data": {
            "text/plain": [
              "<Figure size 1080x720 with 0 Axes>"
            ]
          },
          "metadata": {
            "tags": []
          }
        },
        {
          "output_type": "display_data",
          "data": {
            "image/png": "[encoded data removed]",
            "text/plain": [
              "<Figure size 592x540 with 12 Axes>"
            ]
          },
          "metadata": {
            "tags": [],
            "needs_background": "light"
          }
        }
      ]
    },
    {
      "cell_type": "code",
      "metadata": {
        "colab": {
          "base_uri": "https://localhost:8080/",
          "height": 295
        },
        "id": "XaEBE1rBeGIj",
        "outputId": "f051b148-d5c8-424b-a8cc-b53d6daf4ef4"
      },
      "source": [
        "def kdeplot(feature):\n",
        "    plt.figure(figsize=(9, 4))\n",
        "    plt.title(\"KDE for {}\".format(feature))\n",
        "    ax0 = sns.kdeplot(df[df['Churn'] == 'No'][feature].dropna(), color= 'navy', label= 'Churn: No')\n",
        "    ax1 = sns.kdeplot(df[df['Churn'] == 'Yes'][feature].dropna(), color= 'orange', label= 'Churn: Yes')\n",
        "    plt.legend()\n",
        "kdeplot('tenure')"
      ],
      "execution_count": null,
      "outputs": [
        {
          "output_type": "display_data",
          "data": {
            "image/png": "[encoded data removed]",
            "text/plain": [
              "<Figure size 648x288 with 1 Axes>"
            ]
          },
          "metadata": {
            "tags": [],
            "needs_background": "light"
          }
        }
      ]
    },
    {
      "cell_type": "code",
      "metadata": {
        "id": "FJp__fwwg1Ha",
        "colab": {
          "base_uri": "https://localhost:8080/",
          "height": 295
        },
        "outputId": "81c13600-ac47-4044-ba26-368e6a81e31c"
      },
      "source": [
        "kdeplot('TotalCharges')"
      ],
      "execution_count": null,
      "outputs": [
        {
          "output_type": "display_data",
          "data": {
            "image/png": "[encoded data removed]",
            "text/plain": [
              "<Figure size 648x288 with 1 Axes>"
            ]
          },
          "metadata": {
            "tags": [],
            "needs_background": "light"
          }
        }
      ]
    },
    {
      "cell_type": "markdown",
      "metadata": {
        "id": "n0eLLDh3-aU4"
      },
      "source": [
        "From the plots above we can conclude that:\n",
        "* Recent clients are more likely to churn\n",
        "* Clients with higher MonthlyCharges are also more likely to churn\n",
        "* Tenure and MonthlyCharges are probably important features"
      ]
    },
    {
      "cell_type": "markdown",
      "metadata": {
        "id": "Cx5qIEFivpcL"
      },
      "source": [
        "### Categorical Variable"
      ]
    },
    {
      "cell_type": "code",
      "metadata": {
        "colab": {
          "base_uri": "https://localhost:8080/",
          "height": 210
        },
        "id": "r8d121Lyvr5i",
        "outputId": "f2f763b2-74f1-4762-dc67-1a09df6dfa6a"
      },
      "source": [
        "# check summary statistics\n",
        "df.describe(include = 'object')"
      ],
      "execution_count": null,
      "outputs": [
        {
          "output_type": "execute_result",
          "data": {
            "text/html": [
              "<div>\n",
              "<style scoped>\n",
              "    .dataframe tbody tr th:only-of-type {\n",
              "        vertical-align: middle;\n",
              "    }\n",
              "\n",
              "    .dataframe tbody tr th {\n",
              "        vertical-align: top;\n",
              "    }\n",
              "\n",
              "    .dataframe thead th {\n",
              "        text-align: right;\n",
              "    }\n",
              "</style>\n",
              "<table border=\"1\" class=\"dataframe\">\n",
              "  <thead>\n",
              "    <tr style=\"text-align: right;\">\n",
              "      <th></th>\n",
              "      <th>gender</th>\n",
              "      <th>SeniorCitizen</th>\n",
              "      <th>Partner</th>\n",
              "      <th>Dependents</th>\n",
              "      <th>PhoneService</th>\n",
              "      <th>MultipleLines</th>\n",
              "      <th>InternetService</th>\n",
              "      <th>OnlineSecurity</th>\n",
              "      <th>OnlineBackup</th>\n",
              "      <th>DeviceProtection</th>\n",
              "      <th>TechSupport</th>\n",
              "      <th>StreamingTV</th>\n",
              "      <th>StreamingMovies</th>\n",
              "      <th>Contract</th>\n",
              "      <th>PaperlessBilling</th>\n",
              "      <th>PaymentMethod</th>\n",
              "      <th>Churn</th>\n",
              "    </tr>\n",
              "  </thead>\n",
              "  <tbody>\n",
              "    <tr>\n",
              "      <th>count</th>\n",
              "      <td>5986</td>\n",
              "      <td>5986</td>\n",
              "      <td>5986</td>\n",
              "      <td>5986</td>\n",
              "      <td>5986</td>\n",
              "      <td>5986</td>\n",
              "      <td>5986</td>\n",
              "      <td>5986</td>\n",
              "      <td>5986</td>\n",
              "      <td>5986</td>\n",
              "      <td>5986</td>\n",
              "      <td>5986</td>\n",
              "      <td>5986</td>\n",
              "      <td>5986</td>\n",
              "      <td>5986</td>\n",
              "      <td>5986</td>\n",
              "      <td>5986</td>\n",
              "    </tr>\n",
              "    <tr>\n",
              "      <th>unique</th>\n",
              "      <td>2</td>\n",
              "      <td>2</td>\n",
              "      <td>2</td>\n",
              "      <td>2</td>\n",
              "      <td>2</td>\n",
              "      <td>3</td>\n",
              "      <td>3</td>\n",
              "      <td>3</td>\n",
              "      <td>3</td>\n",
              "      <td>3</td>\n",
              "      <td>3</td>\n",
              "      <td>3</td>\n",
              "      <td>3</td>\n",
              "      <td>3</td>\n",
              "      <td>2</td>\n",
              "      <td>4</td>\n",
              "      <td>2</td>\n",
              "    </tr>\n",
              "    <tr>\n",
              "      <th>top</th>\n",
              "      <td>Male</td>\n",
              "      <td>0</td>\n",
              "      <td>No</td>\n",
              "      <td>No</td>\n",
              "      <td>Yes</td>\n",
              "      <td>No</td>\n",
              "      <td>Fiber optic</td>\n",
              "      <td>No</td>\n",
              "      <td>No</td>\n",
              "      <td>No</td>\n",
              "      <td>No</td>\n",
              "      <td>No</td>\n",
              "      <td>No</td>\n",
              "      <td>Month-to-month</td>\n",
              "      <td>Yes</td>\n",
              "      <td>Electronic check</td>\n",
              "      <td>No</td>\n",
              "    </tr>\n",
              "    <tr>\n",
              "      <th>freq</th>\n",
              "      <td>3050</td>\n",
              "      <td>5020</td>\n",
              "      <td>3082</td>\n",
              "      <td>4195</td>\n",
              "      <td>5396</td>\n",
              "      <td>2848</td>\n",
              "      <td>2627</td>\n",
              "      <td>2982</td>\n",
              "      <td>2605</td>\n",
              "      <td>2640</td>\n",
              "      <td>2960</td>\n",
              "      <td>2389</td>\n",
              "      <td>2356</td>\n",
              "      <td>3269</td>\n",
              "      <td>3528</td>\n",
              "      <td>2006</td>\n",
              "      <td>4399</td>\n",
              "    </tr>\n",
              "  </tbody>\n",
              "</table>\n",
              "</div>"
            ],
            "text/plain": [
              "       gender  SeniorCitizen Partner  ... PaperlessBilling     PaymentMethod Churn\n",
              "count    5986           5986    5986  ...             5986              5986  5986\n",
              "unique      2              2       2  ...                2                 4     2\n",
              "top      Male              0      No  ...              Yes  Electronic check    No\n",
              "freq     3050           5020    3082  ...             3528              2006  4399\n",
              "\n",
              "[4 rows x 17 columns]"
            ]
          },
          "metadata": {
            "tags": []
          },
          "execution_count": 14
        }
      ]
    },
    {
      "cell_type": "markdown",
      "metadata": {
        "id": "kt-Anm1ZwFdH"
      },
      "source": [
        "#### Senior Citizen\n",
        "\n",
        "* The elderly spend more in the company, it has a Total Amount higher, leave more revenue to the company."
      ]
    },
    {
      "cell_type": "code",
      "metadata": {
        "colab": {
          "base_uri": "https://localhost:8080/",
          "height": 142
        },
        "id": "ObZpS-V6ygQl",
        "outputId": "6fd6f98f-6e67-4b5d-8e74-813cf8f5a6b6"
      },
      "source": [
        "# check the summary statistics\n",
        "df.groupby('SeniorCitizen').mean().round()"
      ],
      "execution_count": null,
      "outputs": [
        {
          "output_type": "execute_result",
          "data": {
            "text/html": [
              "<div>\n",
              "<style scoped>\n",
              "    .dataframe tbody tr th:only-of-type {\n",
              "        vertical-align: middle;\n",
              "    }\n",
              "\n",
              "    .dataframe tbody tr th {\n",
              "        vertical-align: top;\n",
              "    }\n",
              "\n",
              "    .dataframe thead th {\n",
              "        text-align: right;\n",
              "    }\n",
              "</style>\n",
              "<table border=\"1\" class=\"dataframe\">\n",
              "  <thead>\n",
              "    <tr style=\"text-align: right;\">\n",
              "      <th></th>\n",
              "      <th>tenure</th>\n",
              "      <th>MonthlyCharges</th>\n",
              "      <th>TotalCharges</th>\n",
              "    </tr>\n",
              "    <tr>\n",
              "      <th>SeniorCitizen</th>\n",
              "      <th></th>\n",
              "      <th></th>\n",
              "      <th></th>\n",
              "    </tr>\n",
              "  </thead>\n",
              "  <tbody>\n",
              "    <tr>\n",
              "      <th>0</th>\n",
              "      <td>32.0</td>\n",
              "      <td>62.0</td>\n",
              "      <td>2201.0</td>\n",
              "    </tr>\n",
              "    <tr>\n",
              "      <th>1</th>\n",
              "      <td>33.0</td>\n",
              "      <td>80.0</td>\n",
              "      <td>2780.0</td>\n",
              "    </tr>\n",
              "  </tbody>\n",
              "</table>\n",
              "</div>"
            ],
            "text/plain": [
              "               tenure  MonthlyCharges  TotalCharges\n",
              "SeniorCitizen                                      \n",
              "0                32.0            62.0        2201.0\n",
              "1                33.0            80.0        2780.0"
            ]
          },
          "metadata": {
            "tags": []
          },
          "execution_count": 15
        }
      ]
    },
    {
      "cell_type": "code",
      "metadata": {
        "colab": {
          "base_uri": "https://localhost:8080/",
          "height": 623
        },
        "id": "jrVNT7EWwHgW",
        "outputId": "b71fdf78-3bc0-4766-9991-ac70b96efbc2"
      },
      "source": [
        "# plotting\n",
        "fig = plt.figure(figsize=(8,10))\n",
        "ax1 = fig.add_subplot(2,1,1)\n",
        "sns.countplot(y=df['SeniorCitizen'],hue=df['Churn'],ax=ax1)\n",
        "ax2 = fig.add_subplot(2,1,2)\n",
        "sns.boxplot(x=df['SeniorCitizen'],y=df['TotalCharges'],hue=df['Churn'],ax=ax2)"
      ],
      "execution_count": null,
      "outputs": [
        {
          "output_type": "execute_result",
          "data": {
            "text/plain": [
              "<matplotlib.axes._subplots.AxesSubplot at 0x7fe2e94a4cd0>"
            ]
          },
          "metadata": {
            "tags": []
          },
          "execution_count": 16
        },
        {
          "output_type": "display_data",
          "data": {
            "image/png": "[encoded data removed]",
            "text/plain": [
              "<Figure size 576x720 with 2 Axes>"
            ]
          },
          "metadata": {
            "tags": []
          }
        }
      ]
    },
    {
      "cell_type": "markdown",
      "metadata": {
        "id": "VuxFcRnMy4xj"
      },
      "source": [
        "#### Gender\n",
        "\n",
        "* No behavior difference between women and men."
      ]
    },
    {
      "cell_type": "code",
      "metadata": {
        "colab": {
          "base_uri": "https://localhost:8080/",
          "height": 142
        },
        "id": "fP7GS_h3y6RI",
        "outputId": "23671441-eecd-4eaa-edf4-f52972adae4d"
      },
      "source": [
        "# check the summary statistics\n",
        "df.groupby('gender').mean().round()"
      ],
      "execution_count": null,
      "outputs": [
        {
          "output_type": "execute_result",
          "data": {
            "text/html": [
              "<div>\n",
              "<style scoped>\n",
              "    .dataframe tbody tr th:only-of-type {\n",
              "        vertical-align: middle;\n",
              "    }\n",
              "\n",
              "    .dataframe tbody tr th {\n",
              "        vertical-align: top;\n",
              "    }\n",
              "\n",
              "    .dataframe thead th {\n",
              "        text-align: right;\n",
              "    }\n",
              "</style>\n",
              "<table border=\"1\" class=\"dataframe\">\n",
              "  <thead>\n",
              "    <tr style=\"text-align: right;\">\n",
              "      <th></th>\n",
              "      <th>tenure</th>\n",
              "      <th>MonthlyCharges</th>\n",
              "      <th>TotalCharges</th>\n",
              "    </tr>\n",
              "    <tr>\n",
              "      <th>gender</th>\n",
              "      <th></th>\n",
              "      <th></th>\n",
              "      <th></th>\n",
              "    </tr>\n",
              "  </thead>\n",
              "  <tbody>\n",
              "    <tr>\n",
              "      <th>Female</th>\n",
              "      <td>32.0</td>\n",
              "      <td>65.0</td>\n",
              "      <td>2303.0</td>\n",
              "    </tr>\n",
              "    <tr>\n",
              "      <th>Male</th>\n",
              "      <td>33.0</td>\n",
              "      <td>64.0</td>\n",
              "      <td>2286.0</td>\n",
              "    </tr>\n",
              "  </tbody>\n",
              "</table>\n",
              "</div>"
            ],
            "text/plain": [
              "        tenure  MonthlyCharges  TotalCharges\n",
              "gender                                      \n",
              "Female    32.0            65.0        2303.0\n",
              "Male      33.0            64.0        2286.0"
            ]
          },
          "metadata": {
            "tags": []
          },
          "execution_count": 17
        }
      ]
    },
    {
      "cell_type": "code",
      "metadata": {
        "colab": {
          "base_uri": "https://localhost:8080/",
          "height": 623
        },
        "id": "YhCsoGrvzEp7",
        "outputId": "5c11fc88-60f4-41e2-b284-52046490dbe5"
      },
      "source": [
        "# plotting\n",
        "fig = plt.figure(figsize=(8,10))\n",
        "ax1 = fig.add_subplot(2,1,1)\n",
        "sns.countplot(y=df['gender'],hue=df['Churn'],ax=ax1)\n",
        "ax2 = fig.add_subplot(2,1,2)\n",
        "sns.boxplot(x=df['gender'],y=df['TotalCharges'],hue=df['Churn'],ax=ax2)"
      ],
      "execution_count": null,
      "outputs": [
        {
          "output_type": "execute_result",
          "data": {
            "text/plain": [
              "<matplotlib.axes._subplots.AxesSubplot at 0x7fe2e7b4d550>"
            ]
          },
          "metadata": {
            "tags": []
          },
          "execution_count": 18
        },
        {
          "output_type": "display_data",
          "data": {
            "image/png": "[encoded data removed]",
            "text/plain": [
              "<Figure size 576x720 with 2 Axes>"
            ]
          },
          "metadata": {
            "tags": []
          }
        }
      ]
    },
    {
      "cell_type": "markdown",
      "metadata": {
        "id": "X6ltfrlt0btK"
      },
      "source": [
        "#### Partner\n",
        "\n",
        "* People with partner are very lucrative to the company, cause they stay more time and spent more money."
      ]
    },
    {
      "cell_type": "code",
      "metadata": {
        "colab": {
          "base_uri": "https://localhost:8080/",
          "height": 142
        },
        "id": "hmTVoAAi0di-",
        "outputId": "f7fff2e4-a20c-4913-96c0-3e85bd93934a"
      },
      "source": [
        "# check the summary statistics\n",
        "df.groupby('Partner').mean().round()"
      ],
      "execution_count": null,
      "outputs": [
        {
          "output_type": "execute_result",
          "data": {
            "text/html": [
              "<div>\n",
              "<style scoped>\n",
              "    .dataframe tbody tr th:only-of-type {\n",
              "        vertical-align: middle;\n",
              "    }\n",
              "\n",
              "    .dataframe tbody tr th {\n",
              "        vertical-align: top;\n",
              "    }\n",
              "\n",
              "    .dataframe thead th {\n",
              "        text-align: right;\n",
              "    }\n",
              "</style>\n",
              "<table border=\"1\" class=\"dataframe\">\n",
              "  <thead>\n",
              "    <tr style=\"text-align: right;\">\n",
              "      <th></th>\n",
              "      <th>tenure</th>\n",
              "      <th>MonthlyCharges</th>\n",
              "      <th>TotalCharges</th>\n",
              "    </tr>\n",
              "    <tr>\n",
              "      <th>Partner</th>\n",
              "      <th></th>\n",
              "      <th></th>\n",
              "      <th></th>\n",
              "    </tr>\n",
              "  </thead>\n",
              "  <tbody>\n",
              "    <tr>\n",
              "      <th>No</th>\n",
              "      <td>23.0</td>\n",
              "      <td>62.0</td>\n",
              "      <td>1585.0</td>\n",
              "    </tr>\n",
              "    <tr>\n",
              "      <th>Yes</th>\n",
              "      <td>42.0</td>\n",
              "      <td>68.0</td>\n",
              "      <td>3047.0</td>\n",
              "    </tr>\n",
              "  </tbody>\n",
              "</table>\n",
              "</div>"
            ],
            "text/plain": [
              "         tenure  MonthlyCharges  TotalCharges\n",
              "Partner                                      \n",
              "No         23.0            62.0        1585.0\n",
              "Yes        42.0            68.0        3047.0"
            ]
          },
          "metadata": {
            "tags": []
          },
          "execution_count": 19
        }
      ]
    },
    {
      "cell_type": "code",
      "metadata": {
        "colab": {
          "base_uri": "https://localhost:8080/",
          "height": 623
        },
        "id": "-QzBCJ8n0tcn",
        "outputId": "86ed4021-4f46-4063-d4e0-f18afb66a3a5"
      },
      "source": [
        "# plotting\n",
        "fig = plt.figure(figsize=(8,10))\n",
        "ax1 = fig.add_subplot(2,1,1)\n",
        "sns.countplot(y=df['Partner'],hue=df['Churn'],ax=ax1)\n",
        "ax2 = fig.add_subplot(2,1,2)\n",
        "sns.boxplot(x=df['Partner'],y=df['TotalCharges'],hue=df['Churn'],ax=ax2)"
      ],
      "execution_count": null,
      "outputs": [
        {
          "output_type": "execute_result",
          "data": {
            "text/plain": [
              "<matplotlib.axes._subplots.AxesSubplot at 0x7fe2f1f36a90>"
            ]
          },
          "metadata": {
            "tags": []
          },
          "execution_count": 20
        },
        {
          "output_type": "display_data",
          "data": {
            "image/png": "[encoded data removed]",
            "text/plain": [
              "<Figure size 576x720 with 2 Axes>"
            ]
          },
          "metadata": {
            "tags": []
          }
        }
      ]
    },
    {
      "cell_type": "markdown",
      "metadata": {
        "id": "wjr_xjsP1T1u"
      },
      "source": [
        "#### Dependents"
      ]
    },
    {
      "cell_type": "code",
      "metadata": {
        "colab": {
          "base_uri": "https://localhost:8080/",
          "height": 142
        },
        "id": "whmF3uwz1VMJ",
        "outputId": "b640bfab-4a79-4ff2-c151-19cf22eab4c0"
      },
      "source": [
        "# check the summary statistics\n",
        "df.groupby('Dependents').mean().round()"
      ],
      "execution_count": null,
      "outputs": [
        {
          "output_type": "execute_result",
          "data": {
            "text/html": [
              "<div>\n",
              "<style scoped>\n",
              "    .dataframe tbody tr th:only-of-type {\n",
              "        vertical-align: middle;\n",
              "    }\n",
              "\n",
              "    .dataframe tbody tr th {\n",
              "        vertical-align: top;\n",
              "    }\n",
              "\n",
              "    .dataframe thead th {\n",
              "        text-align: right;\n",
              "    }\n",
              "</style>\n",
              "<table border=\"1\" class=\"dataframe\">\n",
              "  <thead>\n",
              "    <tr style=\"text-align: right;\">\n",
              "      <th></th>\n",
              "      <th>tenure</th>\n",
              "      <th>MonthlyCharges</th>\n",
              "      <th>TotalCharges</th>\n",
              "    </tr>\n",
              "    <tr>\n",
              "      <th>Dependents</th>\n",
              "      <th></th>\n",
              "      <th></th>\n",
              "      <th></th>\n",
              "    </tr>\n",
              "  </thead>\n",
              "  <tbody>\n",
              "    <tr>\n",
              "      <th>No</th>\n",
              "      <td>30.0</td>\n",
              "      <td>67.0</td>\n",
              "      <td>2201.0</td>\n",
              "    </tr>\n",
              "    <tr>\n",
              "      <th>Yes</th>\n",
              "      <td>39.0</td>\n",
              "      <td>59.0</td>\n",
              "      <td>2512.0</td>\n",
              "    </tr>\n",
              "  </tbody>\n",
              "</table>\n",
              "</div>"
            ],
            "text/plain": [
              "            tenure  MonthlyCharges  TotalCharges\n",
              "Dependents                                      \n",
              "No            30.0            67.0        2201.0\n",
              "Yes           39.0            59.0        2512.0"
            ]
          },
          "metadata": {
            "tags": []
          },
          "execution_count": 21
        }
      ]
    },
    {
      "cell_type": "code",
      "metadata": {
        "colab": {
          "base_uri": "https://localhost:8080/",
          "height": 623
        },
        "id": "Y4MgrCCF1aWX",
        "outputId": "f51b6c98-8f54-45f3-90f8-a6b3973970ec"
      },
      "source": [
        "# plotting\n",
        "fig = plt.figure(figsize=(8,10))\n",
        "ax1 = fig.add_subplot(2,1,1)\n",
        "sns.countplot(y=df['Dependents'],hue=df['Churn'],ax=ax1)\n",
        "ax2 = fig.add_subplot(2,1,2)\n",
        "sns.boxplot(x=df['Dependents'],y=df['TotalCharges'],hue=df['Churn'],ax=ax2)"
      ],
      "execution_count": null,
      "outputs": [
        {
          "output_type": "execute_result",
          "data": {
            "text/plain": [
              "<matplotlib.axes._subplots.AxesSubplot at 0x7fe2e794df90>"
            ]
          },
          "metadata": {
            "tags": []
          },
          "execution_count": 22
        },
        {
          "output_type": "display_data",
          "data": {
            "image/png": "[encoded data removed]",
            "text/plain": [
              "<Figure size 576x720 with 2 Axes>"
            ]
          },
          "metadata": {
            "tags": []
          }
        }
      ]
    },
    {
      "cell_type": "markdown",
      "metadata": {
        "id": "ALyuujAR1vVR"
      },
      "source": [
        "#### Internet Service\n",
        "\n",
        "* Clients without internet have a very low churn rate\n",
        "* Customers with fiber are more probable to churn than those with DSL connection"
      ]
    },
    {
      "cell_type": "code",
      "metadata": {
        "colab": {
          "base_uri": "https://localhost:8080/",
          "height": 173
        },
        "id": "v3w5YTZS2Ceg",
        "outputId": "1bf758f4-f747-4ad2-c318-888c248b9aa9"
      },
      "source": [
        "# check the summary statistics\n",
        "df.groupby('InternetService').mean().round()"
      ],
      "execution_count": null,
      "outputs": [
        {
          "output_type": "execute_result",
          "data": {
            "text/html": [
              "<div>\n",
              "<style scoped>\n",
              "    .dataframe tbody tr th:only-of-type {\n",
              "        vertical-align: middle;\n",
              "    }\n",
              "\n",
              "    .dataframe tbody tr th {\n",
              "        vertical-align: top;\n",
              "    }\n",
              "\n",
              "    .dataframe thead th {\n",
              "        text-align: right;\n",
              "    }\n",
              "</style>\n",
              "<table border=\"1\" class=\"dataframe\">\n",
              "  <thead>\n",
              "    <tr style=\"text-align: right;\">\n",
              "      <th></th>\n",
              "      <th>tenure</th>\n",
              "      <th>MonthlyCharges</th>\n",
              "      <th>TotalCharges</th>\n",
              "    </tr>\n",
              "    <tr>\n",
              "      <th>InternetService</th>\n",
              "      <th></th>\n",
              "      <th></th>\n",
              "      <th></th>\n",
              "    </tr>\n",
              "  </thead>\n",
              "  <tbody>\n",
              "    <tr>\n",
              "      <th>DSL</th>\n",
              "      <td>33.0</td>\n",
              "      <td>58.0</td>\n",
              "      <td>2117.0</td>\n",
              "    </tr>\n",
              "    <tr>\n",
              "      <th>Fiber optic</th>\n",
              "      <td>33.0</td>\n",
              "      <td>92.0</td>\n",
              "      <td>3236.0</td>\n",
              "    </tr>\n",
              "    <tr>\n",
              "      <th>No</th>\n",
              "      <td>30.0</td>\n",
              "      <td>21.0</td>\n",
              "      <td>660.0</td>\n",
              "    </tr>\n",
              "  </tbody>\n",
              "</table>\n",
              "</div>"
            ],
            "text/plain": [
              "                 tenure  MonthlyCharges  TotalCharges\n",
              "InternetService                                      \n",
              "DSL                33.0            58.0        2117.0\n",
              "Fiber optic        33.0            92.0        3236.0\n",
              "No                 30.0            21.0         660.0"
            ]
          },
          "metadata": {
            "tags": []
          },
          "execution_count": 23
        }
      ]
    },
    {
      "cell_type": "code",
      "metadata": {
        "colab": {
          "base_uri": "https://localhost:8080/",
          "height": 623
        },
        "id": "-f5_YZzT1xL3",
        "outputId": "377d28fd-659f-4e28-ffd7-009edbbf457d"
      },
      "source": [
        "# plotting\n",
        "fig = plt.figure(figsize=(8,10))\n",
        "ax1 = fig.add_subplot(2,1,1)\n",
        "sns.countplot(y=df['InternetService'],hue=df['Churn'],ax=ax1)\n",
        "ax2 = fig.add_subplot(2,1,2)\n",
        "sns.boxplot(x=df['InternetService'],y=df['TotalCharges'],hue=df['Churn'],ax=ax2)"
      ],
      "execution_count": null,
      "outputs": [
        {
          "output_type": "execute_result",
          "data": {
            "text/plain": [
              "<matplotlib.axes._subplots.AxesSubplot at 0x7fe2e77f5250>"
            ]
          },
          "metadata": {
            "tags": []
          },
          "execution_count": 24
        },
        {
          "output_type": "display_data",
          "data": {
            "image/png": "[encoded data removed]",
            "text/plain": [
              "<Figure size 576x720 with 2 Axes>"
            ]
          },
          "metadata": {
            "tags": []
          }
        }
      ]
    },
    {
      "cell_type": "markdown",
      "metadata": {
        "id": "VQfn9WuEBGLf"
      },
      "source": [
        "#### Phone Service\n",
        "\n",
        "* Few customers doesn't have phone service\n",
        "* Customers with multiple lines have a slightly higher churn rate"
      ]
    },
    {
      "cell_type": "code",
      "metadata": {
        "colab": {
          "base_uri": "https://localhost:8080/",
          "height": 142
        },
        "id": "dbrWN37aBJfS",
        "outputId": "c3b4556d-a05e-47eb-8f79-7dc88a30842b"
      },
      "source": [
        "# check the summary statistics\n",
        "df.groupby('PhoneService').mean().round()"
      ],
      "execution_count": null,
      "outputs": [
        {
          "output_type": "execute_result",
          "data": {
            "text/html": [
              "<div>\n",
              "<style scoped>\n",
              "    .dataframe tbody tr th:only-of-type {\n",
              "        vertical-align: middle;\n",
              "    }\n",
              "\n",
              "    .dataframe tbody tr th {\n",
              "        vertical-align: top;\n",
              "    }\n",
              "\n",
              "    .dataframe thead th {\n",
              "        text-align: right;\n",
              "    }\n",
              "</style>\n",
              "<table border=\"1\" class=\"dataframe\">\n",
              "  <thead>\n",
              "    <tr style=\"text-align: right;\">\n",
              "      <th></th>\n",
              "      <th>tenure</th>\n",
              "      <th>MonthlyCharges</th>\n",
              "      <th>TotalCharges</th>\n",
              "    </tr>\n",
              "    <tr>\n",
              "      <th>PhoneService</th>\n",
              "      <th></th>\n",
              "      <th></th>\n",
              "      <th></th>\n",
              "    </tr>\n",
              "  </thead>\n",
              "  <tbody>\n",
              "    <tr>\n",
              "      <th>No</th>\n",
              "      <td>32.0</td>\n",
              "      <td>42.0</td>\n",
              "      <td>1488.0</td>\n",
              "    </tr>\n",
              "    <tr>\n",
              "      <th>Yes</th>\n",
              "      <td>33.0</td>\n",
              "      <td>67.0</td>\n",
              "      <td>2382.0</td>\n",
              "    </tr>\n",
              "  </tbody>\n",
              "</table>\n",
              "</div>"
            ],
            "text/plain": [
              "              tenure  MonthlyCharges  TotalCharges\n",
              "PhoneService                                      \n",
              "No              32.0            42.0        1488.0\n",
              "Yes             33.0            67.0        2382.0"
            ]
          },
          "metadata": {
            "tags": []
          },
          "execution_count": 25
        }
      ]
    },
    {
      "cell_type": "code",
      "metadata": {
        "colab": {
          "base_uri": "https://localhost:8080/",
          "height": 623
        },
        "id": "2TMveW8nBM2o",
        "outputId": "c4991dab-1d17-40a2-f7b5-5aac5bf59721"
      },
      "source": [
        "# plotting\n",
        "fig = plt.figure(figsize=(8,10))\n",
        "ax1 = fig.add_subplot(2,1,1)\n",
        "sns.countplot(y=df['PhoneService'],hue=df['Churn'],ax=ax1)\n",
        "ax2 = fig.add_subplot(2,1,2)\n",
        "sns.boxplot(x=df['PhoneService'],y=df['TotalCharges'],hue=df['Churn'],ax=ax2)"
      ],
      "execution_count": null,
      "outputs": [
        {
          "output_type": "execute_result",
          "data": {
            "text/plain": [
              "<matplotlib.axes._subplots.AxesSubplot at 0x7fe2e76ddf90>"
            ]
          },
          "metadata": {
            "tags": []
          },
          "execution_count": 26
        },
        {
          "output_type": "display_data",
          "data": {
            "image/png": "[encoded data removed]",
            "text/plain": [
              "<Figure size 576x720 with 2 Axes>"
            ]
          },
          "metadata": {
            "tags": []
          }
        }
      ]
    },
    {
      "cell_type": "markdown",
      "metadata": {
        "id": "xHE4sOioBiuj"
      },
      "source": [
        "#### Additional Services\n",
        "\n",
        "* Customers with the first 4 additionals (security to tech support) are more unlikely to churn\n",
        "* Streaming service is not predictive for churn"
      ]
    },
    {
      "cell_type": "code",
      "metadata": {
        "colab": {
          "base_uri": "https://localhost:8080/",
          "height": 307
        },
        "id": "LJRGgm60BlfA",
        "outputId": "adbc620d-e139-4f5b-e024-b60a4df449ba"
      },
      "source": [
        "add_service = [\"OnlineSecurity\", \"OnlineBackup\", \"DeviceProtection\", \"TechSupport\", \"StreamingTV\", \"StreamingMovies\"]\n",
        "df1 = pd.melt(df[df[\"InternetService\"] != \"No\"][add_service]).rename({'value': 'Has service'}, axis=1)\n",
        "plt.figure(figsize=(10, 4.5))\n",
        "ax = sns.countplot(data=df1, y='variable', hue='Has service')\n",
        "ax.set(xlabel='Num of customers', ylabel='Additional service')\n",
        "plt.show()"
      ],
      "execution_count": null,
      "outputs": [
        {
          "output_type": "display_data",
          "data": {
            "image/png": "[encoded data removed]",
            "text/plain": [
              "<Figure size 720x324 with 1 Axes>"
            ]
          },
          "metadata": {
            "tags": []
          }
        }
      ]
    },
    {
      "cell_type": "code",
      "metadata": {
        "colab": {
          "base_uri": "https://localhost:8080/",
          "height": 307
        },
        "id": "FbZ4waUQB9RJ",
        "outputId": "3e5cc9d3-57c5-476c-9b21-5b080e681ce5"
      },
      "source": [
        "plt.figure(figsize=(10, 4.5))\n",
        "df1 = df[(df.InternetService != \"No\") & (df.Churn == \"Yes\")]\n",
        "df1 = pd.melt(df1[add_service]).rename({'value': 'Has service'}, axis=1)\n",
        "ax = sns.countplot(data=df1, y='variable', hue='Has service', hue_order=['No', 'Yes'])\n",
        "ax.set(xlabel='Num of churns', ylabel='Additional service')\n",
        "plt.show()"
      ],
      "execution_count": null,
      "outputs": [
        {
          "output_type": "display_data",
          "data": {
            "image/png": "[encoded data removed]",
            "text/plain": [
              "<Figure size 720x324 with 1 Axes>"
            ]
          },
          "metadata": {
            "tags": []
          }
        }
      ]
    },
    {
      "cell_type": "markdown",
      "metadata": {
        "id": "CLSHcLitCmxa"
      },
      "source": [
        "#### Contract\n",
        "\n",
        "* Short term contracts have higher churn rates\n",
        "* Longer contracts are more affected by higher monthly charges"
      ]
    },
    {
      "cell_type": "code",
      "metadata": {
        "colab": {
          "base_uri": "https://localhost:8080/",
          "height": 623
        },
        "id": "8oe4wMOnCobb",
        "outputId": "78b2f575-7523-4b7c-9a21-7ddcacacc105"
      },
      "source": [
        "# plotting\n",
        "fig = plt.figure(figsize=(8,10))\n",
        "ax1 = fig.add_subplot(2,1,1)\n",
        "sns.countplot(y=df['Contract'],hue=df['Churn'],ax=ax1)\n",
        "ax2 = fig.add_subplot(2,1,2)\n",
        "sns.boxplot(x=df['Contract'],y=df['TotalCharges'],hue=df['Churn'],ax=ax2)"
      ],
      "execution_count": null,
      "outputs": [
        {
          "output_type": "execute_result",
          "data": {
            "text/plain": [
              "<matplotlib.axes._subplots.AxesSubplot at 0x7fe2e74f45d0>"
            ]
          },
          "metadata": {
            "tags": []
          },
          "execution_count": 29
        },
        {
          "output_type": "display_data",
          "data": {
            "image/png": "[encoded data removed]",
            "text/plain": [
              "<Figure size 576x720 with 2 Axes>"
            ]
          },
          "metadata": {
            "tags": []
          }
        }
      ]
    },
    {
      "cell_type": "markdown",
      "metadata": {
        "id": "bnMWcynADgvz"
      },
      "source": [
        "#### Payment Method\n",
        "\n",
        "* Customers with paperless billing are more probable to churn\n",
        "* The preferred payment method is Electronic check. This method also has a very high churn rate\n",
        "* Mailed checks have lower charges\n"
      ]
    },
    {
      "cell_type": "code",
      "metadata": {
        "colab": {
          "base_uri": "https://localhost:8080/",
          "height": 623
        },
        "id": "Yk_XHGERDiwe",
        "outputId": "8d41826a-0cec-490d-edc3-4ad3ce9b5e11"
      },
      "source": [
        "# plotting\n",
        "fig = plt.figure(figsize=(12,10))\n",
        "ax1 = fig.add_subplot(2,1,1)\n",
        "sns.countplot(y=df['PaymentMethod'],hue=df['Churn'],ax=ax1)\n",
        "ax2 = fig.add_subplot(2,1,2)\n",
        "sns.boxplot(x=df['PaymentMethod'],y=df['TotalCharges'],hue=df['Churn'],ax=ax2)"
      ],
      "execution_count": null,
      "outputs": [
        {
          "output_type": "execute_result",
          "data": {
            "text/plain": [
              "<matplotlib.axes._subplots.AxesSubplot at 0x7fe2e95f49d0>"
            ]
          },
          "metadata": {
            "tags": []
          },
          "execution_count": 30
        },
        {
          "output_type": "display_data",
          "data": {
            "image/png": "[encoded data removed]",
            "text/plain": [
              "<Figure size 864x720 with 2 Axes>"
            ]
          },
          "metadata": {
            "tags": []
          }
        }
      ]
    },
    {
      "cell_type": "markdown",
      "metadata": {
        "id": "f6ys8AJAEwhB"
      },
      "source": [
        "### Features Correlation\n"
      ]
    },
    {
      "cell_type": "code",
      "metadata": {
        "colab": {
          "base_uri": "https://localhost:8080/",
          "height": 454
        },
        "id": "G0MfnU1qEz5l",
        "outputId": "120a1347-2ca6-4f7a-9d54-a43026402876"
      },
      "source": [
        "plt.figure(figsize=(12, 6))\n",
        "corr = df.apply(lambda x: pd.factorize(x)[0]).corr()\n",
        "ax = sns.heatmap(corr,xticklabels=corr.columns,yticklabels=corr.columns,linewidths=.2)"
      ],
      "execution_count": null,
      "outputs": [
        {
          "output_type": "display_data",
          "data": {
            "image/png": "[encoded data removed]",
            "text/plain": [
              "<Figure size 864x432 with 2 Axes>"
            ]
          },
          "metadata": {
            "tags": []
          }
        }
      ]
    },
    {
      "cell_type": "markdown",
      "metadata": {
        "id": "gAtYu4rI2ujh"
      },
      "source": [
        "# Churn Prediction"
      ]
    },
    {
      "cell_type": "markdown",
      "metadata": {
        "id": "qPeg-npraeWl"
      },
      "source": [
        "## Initialization"
      ]
    },
    {
      "cell_type": "code",
      "metadata": {
        "id": "_f2q7-qHgQx3"
      },
      "source": [
        "# make a class to do all the steps for machine learning algorithm\n",
        "class Model():\n",
        "    def __init__(self, classifier, frame, metrics, fixed_params = {},\n",
        "                 test_size=0.2, random_seed=29):\n",
        "        self.estimator = classifier\n",
        "        self.seed = random_seed\n",
        "        self.metrics = metrics\n",
        "        self.hyperparameters = {}\n",
        "        self.fixed_params = fixed_params\n",
        "        self.fixed_params['random_state'] = random_seed\n",
        "        if classifier == KNeighborsClassifier:\n",
        "            del self.fixed_params['random_state']\n",
        "\n",
        "        # split the data into train and test data by test_size:1-test_size\n",
        "        self.train, self.test = train_test_split(frame, test_size=test_size, random_state= self.seed)\n",
        "        self.predictors = [c for c in self.train.columns if c not in ['customerID', 'Churn']]\n",
        "    \n",
        "    # use gridsearch to find the best parameter \n",
        "    def grid_search(self, fit_metric, params, num_folds=10):\n",
        "        print(self.fixed_params)\n",
        "        gs = GridSearchCV(self.estimator(**self.fixed_params), param_grid= params,\n",
        "                          scoring=self.metrics, cv=num_folds, refit= fit_metric)\n",
        "        gs.fit(self.train[self.predictors], self.train['Churn'])\n",
        "        self.hyperparameters = gs.best_params_\n",
        "        return [(m, gs.cv_results_['mean_test_{}'.format(m)][gs.best_index_]) for m in self.metrics]\n",
        "    \n",
        "    # train and predict using model\n",
        "    def train_and_evaluate_test(self):\n",
        "        params = {**self.hyperparameters, **self.fixed_params}\n",
        "        clf = self.estimator(**params).fit(self.train[self.predictors], self.train['Churn'])\n",
        "        y_pred = clf.predict(self.test[self.predictors])\n",
        "        y_prob = clf.predict_proba(self.test[self.predictors])[:, 1]\n",
        "        results = list()\n",
        "        for m in self.metrics:\n",
        "            if m == 'roc_auc':\n",
        "                # for calculating roc auc we need the probability of target==1\n",
        "                results.append((m, roc_auc_score(self.test['Churn'], y_prob)))\n",
        "            else:\n",
        "                # for the other metrics we can simply use the predicted label (0 or 1)\n",
        "                results.append((m, eval(\"{}_score\".format(m))(self.test['Churn'], y_pred)))\n",
        "        return results\n",
        "\n",
        "# function to print the results nicely\n",
        "def print_result(results, sufix = \"\"):\n",
        "    msg = \"\"\n",
        "    for result in results:\n",
        "        msg += \"| {}: {:.4f} \".format(result[0], result[1])\n",
        "    print(\"{}- {}\".format(msg, sufix))"
      ],
      "execution_count": null,
      "outputs": []
    },
    {
      "cell_type": "markdown",
      "metadata": {
        "id": "8vVkj4QqcaOo"
      },
      "source": [
        "## Data Preprocessing"
      ]
    },
    {
      "cell_type": "markdown",
      "metadata": {
        "id": "Z5JxySAjdn1y"
      },
      "source": [
        "### Handling Categorical Columns"
      ]
    },
    {
      "cell_type": "code",
      "metadata": {
        "id": "Ken4JM5ZdqvZ"
      },
      "source": [
        "# choosing categorical columns\n",
        "categorical_cols = [c for c in df.columns if df[c].dtype == 'object']\n",
        "\n",
        "# take the categorical columns of df\n",
        "df_categorical = df[categorical_cols].copy()\n",
        "\n",
        "# make dummy variable of categorical columns\n",
        "for col in categorical_cols:\n",
        "    if df_categorical[col].nunique() == 2:\n",
        "        df_categorical[col], _ = pd.factorize(df_categorical[col])\n",
        "    else:\n",
        "        df_categorical = pd.get_dummies(df_categorical, columns=[col])"
      ],
      "execution_count": null,
      "outputs": []
    },
    {
      "cell_type": "markdown",
      "metadata": {
        "id": "vBOAPU9geF_Q"
      },
      "source": [
        "### Handling Numerical Columns"
      ]
    },
    {
      "cell_type": "code",
      "metadata": {
        "id": "A18hAAGUccQN"
      },
      "source": [
        "# choosing numerical columns\n",
        "numerical_cols = ['tenure', 'MonthlyCharges', 'TotalCharges']\n",
        "\n",
        "# take the standardization of numerical columns of df\n",
        "df_std = pd.DataFrame(StandardScaler().fit_transform(df[numerical_cols].astype('float64')),\n",
        "                      columns=numerical_cols)"
      ],
      "execution_count": null,
      "outputs": []
    },
    {
      "cell_type": "markdown",
      "metadata": {
        "id": "nncDRwJTee_y"
      },
      "source": [
        "## Finding Best Models\n",
        "\n",
        "We are going to use 2 metrics for our models: ROC AUC score and accuracy."
      ]
    },
    {
      "cell_type": "code",
      "metadata": {
        "colab": {
          "base_uri": "https://localhost:8080/",
          "height": 258
        },
        "id": "SRG2tfI7exUC",
        "outputId": "63a4b6e9-87a7-4b3a-f3bf-3b139b8935d1"
      },
      "source": [
        "df_processed = pd.concat([df_std, df_categorical], axis=1)\n",
        "metrics = ['roc_auc', 'accuracy']\n",
        "\n",
        "df_processed.head()"
      ],
      "execution_count": null,
      "outputs": [
        {
          "output_type": "execute_result",
          "data": {
            "text/html": [
              "<div>\n",
              "<style scoped>\n",
              "    .dataframe tbody tr th:only-of-type {\n",
              "        vertical-align: middle;\n",
              "    }\n",
              "\n",
              "    .dataframe tbody tr th {\n",
              "        vertical-align: top;\n",
              "    }\n",
              "\n",
              "    .dataframe thead th {\n",
              "        text-align: right;\n",
              "    }\n",
              "</style>\n",
              "<table border=\"1\" class=\"dataframe\">\n",
              "  <thead>\n",
              "    <tr style=\"text-align: right;\">\n",
              "      <th></th>\n",
              "      <th>tenure</th>\n",
              "      <th>MonthlyCharges</th>\n",
              "      <th>TotalCharges</th>\n",
              "      <th>gender</th>\n",
              "      <th>SeniorCitizen</th>\n",
              "      <th>Partner</th>\n",
              "      <th>Dependents</th>\n",
              "      <th>PhoneService</th>\n",
              "      <th>PaperlessBilling</th>\n",
              "      <th>Churn</th>\n",
              "      <th>MultipleLines_No</th>\n",
              "      <th>MultipleLines_No phone service</th>\n",
              "      <th>MultipleLines_Yes</th>\n",
              "      <th>InternetService_DSL</th>\n",
              "      <th>InternetService_Fiber optic</th>\n",
              "      <th>InternetService_No</th>\n",
              "      <th>OnlineSecurity_No</th>\n",
              "      <th>OnlineSecurity_No internet service</th>\n",
              "      <th>OnlineSecurity_Yes</th>\n",
              "      <th>OnlineBackup_No</th>\n",
              "      <th>OnlineBackup_No internet service</th>\n",
              "      <th>OnlineBackup_Yes</th>\n",
              "      <th>DeviceProtection_No</th>\n",
              "      <th>DeviceProtection_No internet service</th>\n",
              "      <th>DeviceProtection_Yes</th>\n",
              "      <th>TechSupport_No</th>\n",
              "      <th>TechSupport_No internet service</th>\n",
              "      <th>TechSupport_Yes</th>\n",
              "      <th>StreamingTV_No</th>\n",
              "      <th>StreamingTV_No internet service</th>\n",
              "      <th>StreamingTV_Yes</th>\n",
              "      <th>StreamingMovies_No</th>\n",
              "      <th>StreamingMovies_No internet service</th>\n",
              "      <th>StreamingMovies_Yes</th>\n",
              "      <th>Contract_Month-to-month</th>\n",
              "      <th>Contract_One year</th>\n",
              "      <th>Contract_Two year</th>\n",
              "      <th>PaymentMethod_Bank transfer (automatic)</th>\n",
              "      <th>PaymentMethod_Credit card (automatic)</th>\n",
              "      <th>PaymentMethod_Electronic check</th>\n",
              "      <th>PaymentMethod_Mailed check</th>\n",
              "    </tr>\n",
              "  </thead>\n",
              "  <tbody>\n",
              "    <tr>\n",
              "      <th>0</th>\n",
              "      <td>1.612576</td>\n",
              "      <td>-1.351686</td>\n",
              "      <td>-0.246076</td>\n",
              "      <td>0</td>\n",
              "      <td>0</td>\n",
              "      <td>0</td>\n",
              "      <td>0</td>\n",
              "      <td>0</td>\n",
              "      <td>0</td>\n",
              "      <td>0</td>\n",
              "      <td>0</td>\n",
              "      <td>0</td>\n",
              "      <td>1</td>\n",
              "      <td>0</td>\n",
              "      <td>0</td>\n",
              "      <td>1</td>\n",
              "      <td>0</td>\n",
              "      <td>1</td>\n",
              "      <td>0</td>\n",
              "      <td>0</td>\n",
              "      <td>1</td>\n",
              "      <td>0</td>\n",
              "      <td>0</td>\n",
              "      <td>1</td>\n",
              "      <td>0</td>\n",
              "      <td>0</td>\n",
              "      <td>1</td>\n",
              "      <td>0</td>\n",
              "      <td>0</td>\n",
              "      <td>1</td>\n",
              "      <td>0</td>\n",
              "      <td>0</td>\n",
              "      <td>1</td>\n",
              "      <td>0</td>\n",
              "      <td>0</td>\n",
              "      <td>0</td>\n",
              "      <td>1</td>\n",
              "      <td>0</td>\n",
              "      <td>1</td>\n",
              "      <td>0</td>\n",
              "      <td>0</td>\n",
              "    </tr>\n",
              "    <tr>\n",
              "      <th>1</th>\n",
              "      <td>0.470387</td>\n",
              "      <td>0.775360</td>\n",
              "      <td>0.738345</td>\n",
              "      <td>1</td>\n",
              "      <td>0</td>\n",
              "      <td>1</td>\n",
              "      <td>1</td>\n",
              "      <td>0</td>\n",
              "      <td>1</td>\n",
              "      <td>0</td>\n",
              "      <td>1</td>\n",
              "      <td>0</td>\n",
              "      <td>0</td>\n",
              "      <td>0</td>\n",
              "      <td>1</td>\n",
              "      <td>0</td>\n",
              "      <td>1</td>\n",
              "      <td>0</td>\n",
              "      <td>0</td>\n",
              "      <td>0</td>\n",
              "      <td>0</td>\n",
              "      <td>1</td>\n",
              "      <td>0</td>\n",
              "      <td>0</td>\n",
              "      <td>1</td>\n",
              "      <td>1</td>\n",
              "      <td>0</td>\n",
              "      <td>0</td>\n",
              "      <td>0</td>\n",
              "      <td>0</td>\n",
              "      <td>1</td>\n",
              "      <td>1</td>\n",
              "      <td>0</td>\n",
              "      <td>0</td>\n",
              "      <td>1</td>\n",
              "      <td>0</td>\n",
              "      <td>0</td>\n",
              "      <td>0</td>\n",
              "      <td>1</td>\n",
              "      <td>0</td>\n",
              "      <td>0</td>\n",
              "    </tr>\n",
              "    <tr>\n",
              "      <th>2</th>\n",
              "      <td>0.225633</td>\n",
              "      <td>0.336999</td>\n",
              "      <td>0.253138</td>\n",
              "      <td>1</td>\n",
              "      <td>1</td>\n",
              "      <td>0</td>\n",
              "      <td>1</td>\n",
              "      <td>0</td>\n",
              "      <td>1</td>\n",
              "      <td>1</td>\n",
              "      <td>0</td>\n",
              "      <td>0</td>\n",
              "      <td>1</td>\n",
              "      <td>0</td>\n",
              "      <td>1</td>\n",
              "      <td>0</td>\n",
              "      <td>1</td>\n",
              "      <td>0</td>\n",
              "      <td>0</td>\n",
              "      <td>1</td>\n",
              "      <td>0</td>\n",
              "      <td>0</td>\n",
              "      <td>1</td>\n",
              "      <td>0</td>\n",
              "      <td>0</td>\n",
              "      <td>1</td>\n",
              "      <td>0</td>\n",
              "      <td>0</td>\n",
              "      <td>1</td>\n",
              "      <td>0</td>\n",
              "      <td>0</td>\n",
              "      <td>1</td>\n",
              "      <td>0</td>\n",
              "      <td>0</td>\n",
              "      <td>1</td>\n",
              "      <td>0</td>\n",
              "      <td>0</td>\n",
              "      <td>1</td>\n",
              "      <td>0</td>\n",
              "      <td>0</td>\n",
              "      <td>0</td>\n",
              "    </tr>\n",
              "    <tr>\n",
              "      <th>3</th>\n",
              "      <td>-1.161310</td>\n",
              "      <td>-0.295635</td>\n",
              "      <td>-0.904022</td>\n",
              "      <td>0</td>\n",
              "      <td>0</td>\n",
              "      <td>1</td>\n",
              "      <td>1</td>\n",
              "      <td>0</td>\n",
              "      <td>1</td>\n",
              "      <td>0</td>\n",
              "      <td>1</td>\n",
              "      <td>0</td>\n",
              "      <td>0</td>\n",
              "      <td>1</td>\n",
              "      <td>0</td>\n",
              "      <td>0</td>\n",
              "      <td>1</td>\n",
              "      <td>0</td>\n",
              "      <td>0</td>\n",
              "      <td>1</td>\n",
              "      <td>0</td>\n",
              "      <td>0</td>\n",
              "      <td>1</td>\n",
              "      <td>0</td>\n",
              "      <td>0</td>\n",
              "      <td>1</td>\n",
              "      <td>0</td>\n",
              "      <td>0</td>\n",
              "      <td>1</td>\n",
              "      <td>0</td>\n",
              "      <td>0</td>\n",
              "      <td>0</td>\n",
              "      <td>0</td>\n",
              "      <td>1</td>\n",
              "      <td>1</td>\n",
              "      <td>0</td>\n",
              "      <td>0</td>\n",
              "      <td>0</td>\n",
              "      <td>0</td>\n",
              "      <td>1</td>\n",
              "      <td>0</td>\n",
              "    </tr>\n",
              "    <tr>\n",
              "      <th>4</th>\n",
              "      <td>-1.242895</td>\n",
              "      <td>-0.376997</td>\n",
              "      <td>-0.956353</td>\n",
              "      <td>0</td>\n",
              "      <td>0</td>\n",
              "      <td>1</td>\n",
              "      <td>1</td>\n",
              "      <td>0</td>\n",
              "      <td>0</td>\n",
              "      <td>0</td>\n",
              "      <td>1</td>\n",
              "      <td>0</td>\n",
              "      <td>0</td>\n",
              "      <td>1</td>\n",
              "      <td>0</td>\n",
              "      <td>0</td>\n",
              "      <td>0</td>\n",
              "      <td>0</td>\n",
              "      <td>1</td>\n",
              "      <td>1</td>\n",
              "      <td>0</td>\n",
              "      <td>0</td>\n",
              "      <td>0</td>\n",
              "      <td>0</td>\n",
              "      <td>1</td>\n",
              "      <td>1</td>\n",
              "      <td>0</td>\n",
              "      <td>0</td>\n",
              "      <td>1</td>\n",
              "      <td>0</td>\n",
              "      <td>0</td>\n",
              "      <td>1</td>\n",
              "      <td>0</td>\n",
              "      <td>0</td>\n",
              "      <td>1</td>\n",
              "      <td>0</td>\n",
              "      <td>0</td>\n",
              "      <td>0</td>\n",
              "      <td>0</td>\n",
              "      <td>1</td>\n",
              "      <td>0</td>\n",
              "    </tr>\n",
              "  </tbody>\n",
              "</table>\n",
              "</div>"
            ],
            "text/plain": [
              "     tenure  ...  PaymentMethod_Mailed check\n",
              "0  1.612576  ...                           0\n",
              "1  0.470387  ...                           0\n",
              "2  0.225633  ...                           0\n",
              "3 -1.161310  ...                           0\n",
              "4 -1.242895  ...                           0\n",
              "\n",
              "[5 rows x 41 columns]"
            ]
          },
          "metadata": {
            "tags": []
          },
          "execution_count": 12
        }
      ]
    },
    {
      "cell_type": "markdown",
      "metadata": {
        "id": "Pi7ymctxeglQ"
      },
      "source": [
        "### 1. Logistic Regression"
      ]
    },
    {
      "cell_type": "code",
      "metadata": {
        "colab": {
          "base_uri": "https://localhost:8080/",
          "height": 1000
        },
        "id": "f3WI_sOxa3wj",
        "outputId": "71006763-e7ab-4c31-df0a-3dbc073e4ecc"
      },
      "source": [
        "# check the feature importance of logistic regression\n",
        "model = LogisticRegression(random_state=29)\n",
        "\n",
        "features = df_processed.drop(columns=['Churn'])\n",
        "\n",
        "model.fit(features,df_processed['Churn'])\n",
        "\n",
        "feature_importance=pd.DataFrame({'feature':list(features.columns),'feature_importance':[abs(i) for i in model.coef_[0]]})\n",
        "feature_importance.sort_values('feature_importance',ascending=False)"
      ],
      "execution_count": null,
      "outputs": [
        {
          "output_type": "execute_result",
          "data": {
            "text/html": [
              "<div>\n",
              "<style scoped>\n",
              "    .dataframe tbody tr th:only-of-type {\n",
              "        vertical-align: middle;\n",
              "    }\n",
              "\n",
              "    .dataframe tbody tr th {\n",
              "        vertical-align: top;\n",
              "    }\n",
              "\n",
              "    .dataframe thead th {\n",
              "        text-align: right;\n",
              "    }\n",
              "</style>\n",
              "<table border=\"1\" class=\"dataframe\">\n",
              "  <thead>\n",
              "    <tr style=\"text-align: right;\">\n",
              "      <th></th>\n",
              "      <th>feature</th>\n",
              "      <th>feature_importance</th>\n",
              "    </tr>\n",
              "  </thead>\n",
              "  <tbody>\n",
              "    <tr>\n",
              "      <th>0</th>\n",
              "      <td>tenure</td>\n",
              "      <td>1.389396</td>\n",
              "    </tr>\n",
              "    <tr>\n",
              "      <th>35</th>\n",
              "      <td>Contract_Two year</td>\n",
              "      <td>0.721334</td>\n",
              "    </tr>\n",
              "    <tr>\n",
              "      <th>33</th>\n",
              "      <td>Contract_Month-to-month</td>\n",
              "      <td>0.695899</td>\n",
              "    </tr>\n",
              "    <tr>\n",
              "      <th>2</th>\n",
              "      <td>TotalCharges</td>\n",
              "      <td>0.679768</td>\n",
              "    </tr>\n",
              "    <tr>\n",
              "      <th>13</th>\n",
              "      <td>InternetService_Fiber optic</td>\n",
              "      <td>0.526887</td>\n",
              "    </tr>\n",
              "    <tr>\n",
              "      <th>12</th>\n",
              "      <td>InternetService_DSL</td>\n",
              "      <td>0.407089</td>\n",
              "    </tr>\n",
              "    <tr>\n",
              "      <th>8</th>\n",
              "      <td>PaperlessBilling</td>\n",
              "      <td>0.312118</td>\n",
              "    </tr>\n",
              "    <tr>\n",
              "      <th>38</th>\n",
              "      <td>PaymentMethod_Electronic check</td>\n",
              "      <td>0.270948</td>\n",
              "    </tr>\n",
              "    <tr>\n",
              "      <th>15</th>\n",
              "      <td>OnlineSecurity_No</td>\n",
              "      <td>0.267426</td>\n",
              "    </tr>\n",
              "    <tr>\n",
              "      <th>1</th>\n",
              "      <td>MonthlyCharges</td>\n",
              "      <td>0.243595</td>\n",
              "    </tr>\n",
              "    <tr>\n",
              "      <th>32</th>\n",
              "      <td>StreamingMovies_Yes</td>\n",
              "      <td>0.218405</td>\n",
              "    </tr>\n",
              "    <tr>\n",
              "      <th>24</th>\n",
              "      <td>TechSupport_No</td>\n",
              "      <td>0.214776</td>\n",
              "    </tr>\n",
              "    <tr>\n",
              "      <th>9</th>\n",
              "      <td>MultipleLines_No</td>\n",
              "      <td>0.213241</td>\n",
              "    </tr>\n",
              "    <tr>\n",
              "      <th>29</th>\n",
              "      <td>StreamingTV_Yes</td>\n",
              "      <td>0.198749</td>\n",
              "    </tr>\n",
              "    <tr>\n",
              "      <th>4</th>\n",
              "      <td>SeniorCitizen</td>\n",
              "      <td>0.186358</td>\n",
              "    </tr>\n",
              "    <tr>\n",
              "      <th>17</th>\n",
              "      <td>OnlineSecurity_Yes</td>\n",
              "      <td>0.147629</td>\n",
              "    </tr>\n",
              "    <tr>\n",
              "      <th>18</th>\n",
              "      <td>OnlineBackup_No</td>\n",
              "      <td>0.139360</td>\n",
              "    </tr>\n",
              "    <tr>\n",
              "      <th>10</th>\n",
              "      <td>MultipleLines_No phone service</td>\n",
              "      <td>0.134656</td>\n",
              "    </tr>\n",
              "    <tr>\n",
              "      <th>7</th>\n",
              "      <td>PhoneService</td>\n",
              "      <td>0.134656</td>\n",
              "    </tr>\n",
              "    <tr>\n",
              "      <th>37</th>\n",
              "      <td>PaymentMethod_Credit card (automatic)</td>\n",
              "      <td>0.125106</td>\n",
              "    </tr>\n",
              "    <tr>\n",
              "      <th>14</th>\n",
              "      <td>InternetService_No</td>\n",
              "      <td>0.120286</td>\n",
              "    </tr>\n",
              "    <tr>\n",
              "      <th>16</th>\n",
              "      <td>OnlineSecurity_No internet service</td>\n",
              "      <td>0.120286</td>\n",
              "    </tr>\n",
              "    <tr>\n",
              "      <th>22</th>\n",
              "      <td>DeviceProtection_No internet service</td>\n",
              "      <td>0.120286</td>\n",
              "    </tr>\n",
              "    <tr>\n",
              "      <th>25</th>\n",
              "      <td>TechSupport_No internet service</td>\n",
              "      <td>0.120286</td>\n",
              "    </tr>\n",
              "    <tr>\n",
              "      <th>31</th>\n",
              "      <td>StreamingMovies_No internet service</td>\n",
              "      <td>0.120286</td>\n",
              "    </tr>\n",
              "    <tr>\n",
              "      <th>28</th>\n",
              "      <td>StreamingTV_No internet service</td>\n",
              "      <td>0.120286</td>\n",
              "    </tr>\n",
              "    <tr>\n",
              "      <th>19</th>\n",
              "      <td>OnlineBackup_No internet service</td>\n",
              "      <td>0.120286</td>\n",
              "    </tr>\n",
              "    <tr>\n",
              "      <th>6</th>\n",
              "      <td>Dependents</td>\n",
              "      <td>0.109929</td>\n",
              "    </tr>\n",
              "    <tr>\n",
              "      <th>30</th>\n",
              "      <td>StreamingMovies_No</td>\n",
              "      <td>0.098608</td>\n",
              "    </tr>\n",
              "    <tr>\n",
              "      <th>26</th>\n",
              "      <td>TechSupport_Yes</td>\n",
              "      <td>0.094979</td>\n",
              "    </tr>\n",
              "    <tr>\n",
              "      <th>39</th>\n",
              "      <td>PaymentMethod_Mailed check</td>\n",
              "      <td>0.088716</td>\n",
              "    </tr>\n",
              "    <tr>\n",
              "      <th>27</th>\n",
              "      <td>StreamingTV_No</td>\n",
              "      <td>0.078952</td>\n",
              "    </tr>\n",
              "    <tr>\n",
              "      <th>11</th>\n",
              "      <td>MultipleLines_Yes</td>\n",
              "      <td>0.078096</td>\n",
              "    </tr>\n",
              "    <tr>\n",
              "      <th>21</th>\n",
              "      <td>DeviceProtection_No</td>\n",
              "      <td>0.077757</td>\n",
              "    </tr>\n",
              "    <tr>\n",
              "      <th>36</th>\n",
              "      <td>PaymentMethod_Bank transfer (automatic)</td>\n",
              "      <td>0.057615</td>\n",
              "    </tr>\n",
              "    <tr>\n",
              "      <th>23</th>\n",
              "      <td>DeviceProtection_Yes</td>\n",
              "      <td>0.042040</td>\n",
              "    </tr>\n",
              "    <tr>\n",
              "      <th>3</th>\n",
              "      <td>gender</td>\n",
              "      <td>0.040223</td>\n",
              "    </tr>\n",
              "    <tr>\n",
              "      <th>34</th>\n",
              "      <td>Contract_One year</td>\n",
              "      <td>0.024947</td>\n",
              "    </tr>\n",
              "    <tr>\n",
              "      <th>5</th>\n",
              "      <td>Partner</td>\n",
              "      <td>0.023329</td>\n",
              "    </tr>\n",
              "    <tr>\n",
              "      <th>20</th>\n",
              "      <td>OnlineBackup_Yes</td>\n",
              "      <td>0.019563</td>\n",
              "    </tr>\n",
              "  </tbody>\n",
              "</table>\n",
              "</div>"
            ],
            "text/plain": [
              "                                    feature  feature_importance\n",
              "0                                    tenure            1.389396\n",
              "35                        Contract_Two year            0.721334\n",
              "33                  Contract_Month-to-month            0.695899\n",
              "2                              TotalCharges            0.679768\n",
              "13              InternetService_Fiber optic            0.526887\n",
              "12                      InternetService_DSL            0.407089\n",
              "8                          PaperlessBilling            0.312118\n",
              "38           PaymentMethod_Electronic check            0.270948\n",
              "15                        OnlineSecurity_No            0.267426\n",
              "1                            MonthlyCharges            0.243595\n",
              "32                      StreamingMovies_Yes            0.218405\n",
              "24                           TechSupport_No            0.214776\n",
              "9                          MultipleLines_No            0.213241\n",
              "29                          StreamingTV_Yes            0.198749\n",
              "4                             SeniorCitizen            0.186358\n",
              "17                       OnlineSecurity_Yes            0.147629\n",
              "18                          OnlineBackup_No            0.139360\n",
              "10           MultipleLines_No phone service            0.134656\n",
              "7                              PhoneService            0.134656\n",
              "37    PaymentMethod_Credit card (automatic)            0.125106\n",
              "14                       InternetService_No            0.120286\n",
              "16       OnlineSecurity_No internet service            0.120286\n",
              "22     DeviceProtection_No internet service            0.120286\n",
              "25          TechSupport_No internet service            0.120286\n",
              "31      StreamingMovies_No internet service            0.120286\n",
              "28          StreamingTV_No internet service            0.120286\n",
              "19         OnlineBackup_No internet service            0.120286\n",
              "6                                Dependents            0.109929\n",
              "30                       StreamingMovies_No            0.098608\n",
              "26                          TechSupport_Yes            0.094979\n",
              "39               PaymentMethod_Mailed check            0.088716\n",
              "27                           StreamingTV_No            0.078952\n",
              "11                        MultipleLines_Yes            0.078096\n",
              "21                      DeviceProtection_No            0.077757\n",
              "36  PaymentMethod_Bank transfer (automatic)            0.057615\n",
              "23                     DeviceProtection_Yes            0.042040\n",
              "3                                    gender            0.040223\n",
              "34                        Contract_One year            0.024947\n",
              "5                                   Partner            0.023329\n",
              "20                         OnlineBackup_Yes            0.019563"
            ]
          },
          "metadata": {
            "tags": []
          },
          "execution_count": 13
        }
      ]
    },
    {
      "cell_type": "code",
      "metadata": {
        "colab": {
          "base_uri": "https://localhost:8080/"
        },
        "id": "30KQDpMEejrP",
        "outputId": "aa85cd0a-e9c5-4e9d-dd97-0152a6b2e5c1"
      },
      "source": [
        "def logistic_regression(frame, grid):\n",
        "    logit = Model(LogisticRegression, frame, metrics)\n",
        "    print_result(logit.grid_search('roc_auc', grid), \"cross-validation\")\n",
        "    print_result(logit.train_and_evaluate_test(), \"test set\")\n",
        "    print(\"Best hyperparameters:\", logit.hyperparameters)\n",
        "logistic_regression(df_processed, {'C': np.logspace(-4, 4, 100, base=10)})"
      ],
      "execution_count": null,
      "outputs": [
        {
          "output_type": "stream",
          "text": [
            "{'random_state': 29}\n",
            "| roc_auc: 0.8414 | accuracy: 0.8045 - cross-validation\n",
            "| roc_auc: 0.8443 | accuracy: 0.7913 - test set\n",
            "Best hyperparameters: {'C': 2.782559402207126}\n"
          ],
          "name": "stdout"
        }
      ]
    },
    {
      "cell_type": "code",
      "metadata": {
        "colab": {
          "base_uri": "https://localhost:8080/"
        },
        "id": "aFIJcsabhB8i",
        "outputId": "34eeccb4-4858-4518-a775-1964857fd2d1"
      },
      "source": [
        "logit_grid = {'C': np.linspace(0.02, 3, 150)}\n",
        "logistic_regression(df_processed, logit_grid)"
      ],
      "execution_count": null,
      "outputs": [
        {
          "output_type": "stream",
          "text": [
            "{'random_state': 29}\n",
            "| roc_auc: 0.8414 | accuracy: 0.8047 - cross-validation\n",
            "| roc_auc: 0.8443 | accuracy: 0.7905 - test set\n",
            "Best hyperparameters: {'C': 2.62}\n"
          ],
          "name": "stdout"
        }
      ]
    },
    {
      "cell_type": "markdown",
      "metadata": {
        "id": "eHs8mWYZh-D4"
      },
      "source": [
        "### 2. Support Vector Machine (SVM)"
      ]
    },
    {
      "cell_type": "markdown",
      "metadata": {
        "id": "r5GNWfjNiLp_"
      },
      "source": [
        "#### RBF Kernel\n",
        "\n",
        "Tuning the hyperparameters C and gamma."
      ]
    },
    {
      "cell_type": "code",
      "metadata": {
        "colab": {
          "base_uri": "https://localhost:8080/"
        },
        "id": "aFtohno8iDRk",
        "outputId": "37d8c383-a9a5-459b-f6d4-dd458aaf72ad"
      },
      "source": [
        "def svc_rbf(frame, grid):\n",
        "    rbf = Model(SVC, frame, metrics, fixed_params= {'kernel': 'rbf', 'probability': True})\n",
        "    print_result(rbf.grid_search('roc_auc', grid, num_folds=4), \"cross-validation\")\n",
        "    print_result(rbf.train_and_evaluate_test(), \"test set\")\n",
        "    print(\"Best hyperparameters:\", rbf.hyperparameters)\n",
        "\n",
        "grid_rbf =  {'C': np.logspace(-4, 1, 10, base=2), 'gamma': np.logspace(-6, 2, 10, base=2)}\n",
        "svc_rbf(df_processed, grid_rbf)"
      ],
      "execution_count": null,
      "outputs": [
        {
          "output_type": "stream",
          "text": [
            "{'kernel': 'rbf', 'probability': True, 'random_state': 29}\n",
            "| roc_auc: 0.8312 | accuracy: 0.7550 - cross-validation\n",
            "| roc_auc: 0.8333 | accuracy: 0.7846 - test set\n",
            "Best hyperparameters: {'C': 0.0625, 'gamma': 0.015625}\n"
          ],
          "name": "stdout"
        }
      ]
    },
    {
      "cell_type": "markdown",
      "metadata": {
        "id": "RXpKGSYpi7BL"
      },
      "source": [
        "#### Linear Kernel\n",
        "\n",
        "Tuning the regularization parameter."
      ]
    },
    {
      "cell_type": "code",
      "metadata": {
        "colab": {
          "base_uri": "https://localhost:8080/"
        },
        "id": "QQyAFG6Djynz",
        "outputId": "8af80471-39c2-48d6-d9ca-697a4e30f8c3"
      },
      "source": [
        "def svc_linear(frame, grid):\n",
        "    linear = Model(SVC, frame, metrics, fixed_params={'kernel': 'linear', 'probability': True})\n",
        "    print_result(linear.grid_search('roc_auc', grid), \"cross-validation\")\n",
        "    print_result(linear.train_and_evaluate_test(), \"test set\")\n",
        "    print(\"Best hyperparameters:\", linear.hyperparameters)\n",
        "    \n",
        "svc_linear(df_processed, {'C': np.logspace(-4, 1, 100, base=10)})"
      ],
      "execution_count": null,
      "outputs": [
        {
          "output_type": "stream",
          "text": [
            "{'kernel': 'linear', 'probability': True, 'random_state': 29}\n",
            "| roc_auc: 0.8330 | accuracy: 0.7368 - cross-validation\n",
            "| roc_auc: 0.8327 | accuracy: 0.7270 - test set\n",
            "Best hyperparameters: {'C': 0.00020092330025650479}\n"
          ],
          "name": "stdout"
        }
      ]
    },
    {
      "cell_type": "markdown",
      "metadata": {
        "id": "h6kEk6vqi9lr"
      },
      "source": [
        "#### Polynomial Kernel"
      ]
    },
    {
      "cell_type": "code",
      "metadata": {
        "colab": {
          "base_uri": "https://localhost:8080/"
        },
        "id": "yEgNshUUj2SY",
        "outputId": "e8db7c44-a8d3-4f3f-cf02-f06d47cc9063"
      },
      "source": [
        "def svc_poly(frame, grid):\n",
        "    poly_svc = Model(SVC, frame, metrics, fixed_params={'kernel': 'poly', 'probability': True})\n",
        "    print_result(poly_svc.grid_search('roc_auc', grid), \"cross-validation\")\n",
        "    print_result(poly_svc.train_and_evaluate_test(), \"test set\")\n",
        "    print(\"Best hyperparameters:\", poly_svc.hyperparameters)\n",
        "    \n",
        "svc_poly(df_processed, {'C': np.logspace(-5, 1, 30, base=2), 'degree': [2, 3]})"
      ],
      "execution_count": null,
      "outputs": [
        {
          "output_type": "stream",
          "text": [
            "{'kernel': 'poly', 'probability': True, 'random_state': 29}\n",
            "| roc_auc: 0.8210 | accuracy: 0.7964 - cross-validation\n",
            "| roc_auc: 0.8271 | accuracy: 0.7947 - test set\n",
            "Best hyperparameters: {'C': 0.03125, 'degree': 2}\n"
          ],
          "name": "stdout"
        }
      ]
    },
    {
      "cell_type": "markdown",
      "metadata": {
        "id": "UF8rIhXyj6GR"
      },
      "source": [
        "### 3. Nearest Neighbors Classifier"
      ]
    },
    {
      "cell_type": "code",
      "metadata": {
        "colab": {
          "base_uri": "https://localhost:8080/"
        },
        "id": "pt0d0fEXj_E1",
        "outputId": "a5f82d7a-9139-4393-d351-e40278272c07"
      },
      "source": [
        "def knn_clf(frame, grid):\n",
        "    knn = Model(KNeighborsClassifier, frame, metrics)\n",
        "    print_result(knn.grid_search('roc_auc', grid), \"cross-validation\")\n",
        "    print_result(knn.train_and_evaluate_test(), \"test set\")\n",
        "    print(\"Best hyperparameters:\", knn.hyperparameters)\n",
        "    \n",
        "knn_clf(df_processed, {'n_neighbors': [i for i in range(10, 50, 2)]})"
      ],
      "execution_count": null,
      "outputs": [
        {
          "output_type": "stream",
          "text": [
            "{}\n",
            "| roc_auc: 0.8285 | accuracy: 0.7957 - cross-validation\n",
            "| roc_auc: 0.8351 | accuracy: 0.7855 - test set\n",
            "Best hyperparameters: {'n_neighbors': 44}\n"
          ],
          "name": "stdout"
        }
      ]
    },
    {
      "cell_type": "markdown",
      "metadata": {
        "id": "BWsLhRkMMDZM"
      },
      "source": [
        "## Feature Engineering"
      ]
    },
    {
      "cell_type": "markdown",
      "metadata": {
        "id": "wbhy30D4Rcki"
      },
      "source": [
        "### Remove Useless Columns"
      ]
    },
    {
      "cell_type": "code",
      "metadata": {
        "id": "zTGUfyUER0PM"
      },
      "source": [
        "# drop gender\n",
        "features1 = ['gender']\n",
        "\n",
        "# drop 'no internet'\n",
        "features2 = ['OnlineSecurity_No internet service', 'OnlineBackup_No internet service',\n",
        "             'DeviceProtection_No internet service', 'TechSupport_No internet service',\n",
        "             'StreamingTV_No internet service', 'StreamingMovies_No internet service']\n",
        "\n",
        "# drop PhoneService because it is already in MultipleLines\n",
        "features3 = ['PhoneService']\n",
        "\n",
        "# bring them together\n",
        "features = np.concatenate([features1,features2,features3])"
      ],
      "execution_count": null,
      "outputs": []
    },
    {
      "cell_type": "code",
      "metadata": {
        "colab": {
          "base_uri": "https://localhost:8080/"
        },
        "id": "wEBBFAtjW-xQ",
        "outputId": "ba0d026a-78e5-4dc2-8d93-e9d8e90386e7"
      },
      "source": [
        "# cross-validation - evaluation\n",
        "df_processed.drop(features, axis=1, inplace=True)\n",
        "logit = Model(LogisticRegression, df_processed, metrics)\n",
        "print_result(logit.grid_search('roc_auc', logit_grid), \"cross-validation\")\n",
        "print_result(logit.train_and_evaluate_test(), \"test set\")"
      ],
      "execution_count": null,
      "outputs": [
        {
          "output_type": "stream",
          "text": [
            "{'random_state': 29}\n",
            "| roc_auc: 0.8417 | accuracy: 0.8045 - cross-validation\n",
            "| roc_auc: 0.8443 | accuracy: 0.7905 - test set\n"
          ],
          "name": "stdout"
        }
      ]
    },
    {
      "cell_type": "markdown",
      "metadata": {
        "id": "obBuordX4AGT"
      },
      "source": [
        "### Add New Column"
      ]
    },
    {
      "cell_type": "markdown",
      "metadata": {
        "id": "slbJdQGL5sMb"
      },
      "source": [
        "#### Checking Performance of Each Column"
      ]
    },
    {
      "cell_type": "code",
      "metadata": {
        "colab": {
          "base_uri": "https://localhost:8080/"
        },
        "id": "DgVzUe144Erb",
        "outputId": "cac09cea-e3f9-477b-ecbd-70b5c1b077c7"
      },
      "source": [
        "# difference between TotalCharges and the tenure multiplied by monthly charges\n",
        "df_tmp = df_processed.copy()\n",
        "df_tmp['charges_difference'] = df_tmp['TotalCharges'] - df_tmp['tenure']*df_tmp['MonthlyCharges']\n",
        "logit = Model(LogisticRegression, df_tmp, metrics)\n",
        "print_result(logit.grid_search('roc_auc', logit_grid), \"cross-validation\")"
      ],
      "execution_count": null,
      "outputs": [
        {
          "output_type": "stream",
          "text": [
            "{'random_state': 29}\n",
            "| roc_auc: 0.8417 | accuracy: 0.8045 - cross-validation\n"
          ],
          "name": "stdout"
        }
      ]
    },
    {
      "cell_type": "code",
      "metadata": {
        "colab": {
          "base_uri": "https://localhost:8080/"
        },
        "id": "ZedoZq1T5ymv",
        "outputId": "47625c53-93ae-419a-ba3f-efb26f0f79d8"
      },
      "source": [
        "# tenure multiplied by monthly charges\n",
        "df_tmp = df_processed.copy()\n",
        "df_tmp['tenure*charges'] = df_tmp['tenure']*df_tmp['MonthlyCharges']\n",
        "logit = Model(LogisticRegression, df_tmp, metrics)\n",
        "print_result(logit.grid_search('roc_auc', logit_grid), \"cross-validation\")"
      ],
      "execution_count": null,
      "outputs": [
        {
          "output_type": "stream",
          "text": [
            "{'random_state': 29}\n",
            "| roc_auc: 0.8417 | accuracy: 0.8047 - cross-validation\n"
          ],
          "name": "stdout"
        }
      ]
    },
    {
      "cell_type": "code",
      "metadata": {
        "colab": {
          "base_uri": "https://localhost:8080/"
        },
        "id": "WiwmYPLf52qO",
        "outputId": "59cb83c7-4a71-4164-e1d3-7117919ad7b1"
      },
      "source": [
        "# ratio between the tenure multiplied by monthly charges and TotalCharges\n",
        "df_tmp = df_processed.copy()\n",
        "df_tmp['charges_ratio'] = df_tmp['tenure']*df_tmp['MonthlyCharges'] / (df_tmp['TotalCharges'] + 1)\n",
        "logit = Model(LogisticRegression, df_tmp, metrics)\n",
        "print_result(logit.grid_search('roc_auc', logit_grid), \"cross-validation\")"
      ],
      "execution_count": null,
      "outputs": [
        {
          "output_type": "stream",
          "text": [
            "{'random_state': 29}\n",
            "| roc_auc: 0.7202 | accuracy: 0.7227 - cross-validation\n"
          ],
          "name": "stdout"
        }
      ]
    },
    {
      "cell_type": "markdown",
      "metadata": {
        "id": "NRp7AtpR7u3S"
      },
      "source": [
        "#### Choose The Best Column"
      ]
    },
    {
      "cell_type": "code",
      "metadata": {
        "colab": {
          "base_uri": "https://localhost:8080/"
        },
        "id": "ilcluVlO7zAD",
        "outputId": "10619b9d-c7d4-4763-a8bf-46c22d9068d9"
      },
      "source": [
        "# add feature\n",
        "df_processed['tenure*charges'] = df_processed['tenure']*df_processed['MonthlyCharges']\n",
        "logit = Model(LogisticRegression, df_processed, metrics)\n",
        "print_result(logit.grid_search('roc_auc', logit_grid), \"cross-validation\")\n",
        "print_result(logit.train_and_evaluate_test(), \"test set\")"
      ],
      "execution_count": null,
      "outputs": [
        {
          "output_type": "stream",
          "text": [
            "{'random_state': 29}\n",
            "| roc_auc: 0.8417 | accuracy: 0.8047 - cross-validation\n",
            "| roc_auc: 0.8445 | accuracy: 0.7905 - test set\n"
          ],
          "name": "stdout"
        }
      ]
    },
    {
      "cell_type": "markdown",
      "metadata": {
        "id": "IZ6dDG_J9L6A"
      },
      "source": [
        "### Polynomial Features"
      ]
    },
    {
      "cell_type": "markdown",
      "metadata": {
        "id": "DVEz_XbMFxOU"
      },
      "source": [
        "#### Checking Performance of Each Degree"
      ]
    },
    {
      "cell_type": "code",
      "metadata": {
        "colab": {
          "background_save": true,
          "base_uri": "https://localhost:8080/"
        },
        "id": "FJZRvT9Q9PbH",
        "outputId": "217cb6a9-eb5f-4a74-bcda-758c349c9808"
      },
      "source": [
        "def add_polynomial_features(frame, poly_degree=2, interaction=False):\n",
        "    # generate polynomials for the four numerical features\n",
        "    poly = PolynomialFeatures(degree=poly_degree, interaction_only=interaction, include_bias=False)\n",
        "    poly_features = poly.fit_transform(frame[['tenure', 'MonthlyCharges', 'TotalCharges','tenure*charges']])\n",
        "    # convert to dataframe and drop the repeated columns\n",
        "    df_poly = pd.DataFrame(poly_features, columns=poly.get_feature_names())\n",
        "    return pd.concat([frame, df_poly.drop(['x0', 'x1', 'x2'], axis=1)], axis=1)\n",
        "\n",
        "# try a few different options for polynomial features\n",
        "for degree in range(2, 6):\n",
        "    for interaction in [True, False]:\n",
        "        df_poly = add_polynomial_features(df_processed, degree, interaction)\n",
        "        print(\"Degree: {}, interaction only: {}, data shape: {}\"\n",
        "              .format(degree, interaction, df_poly.shape))\n",
        "        logit = Model(LogisticRegression, df_poly, metrics)\n",
        "        print_result(logit.grid_search('roc_auc', logit_grid), \"cross-validation\")\n",
        "        del df_poly; gc.collect()"
      ],
      "execution_count": null,
      "outputs": [
        {
          "output_type": "stream",
          "text": [
            "Degree: 2, interaction only: True, data shape: (5986, 41)\n",
            "{'random_state': 29}\n",
            "| roc_auc: 0.8444 | accuracy: 0.8097 - cross-validation\n",
            "Degree: 2, interaction only: False, data shape: (5986, 45)\n",
            "{'random_state': 29}\n",
            "| roc_auc: 0.8442 | accuracy: 0.8095 - cross-validation\n",
            "Degree: 3, interaction only: True, data shape: (5986, 45)\n",
            "{'random_state': 29}\n",
            "| roc_auc: 0.8446 | accuracy: 0.8062 - cross-validation\n",
            "Degree: 3, interaction only: False, data shape: (5986, 65)\n",
            "{'random_state': 29}\n",
            "| roc_auc: 0.8462 | accuracy: 0.8045 - cross-validation\n",
            "Degree: 4, interaction only: True, data shape: (5986, 46)\n",
            "{'random_state': 29}\n",
            "| roc_auc: 0.8446 | accuracy: 0.8068 - cross-validation\n",
            "Degree: 4, interaction only: False, data shape: (5986, 100)\n",
            "{'random_state': 29}\n",
            "| roc_auc: 0.8458 | accuracy: 0.8051 - cross-validation\n",
            "Degree: 5, interaction only: True, data shape: (5986, 46)\n",
            "{'random_state': 29}\n",
            "| roc_auc: 0.8446 | accuracy: 0.8068 - cross-validation\n",
            "Degree: 5, interaction only: False, data shape: (5986, 156)\n",
            "{'random_state': 29}\n",
            "| roc_auc: 0.8448 | accuracy: 0.8056 - cross-validation\n"
          ],
          "name": "stdout"
        }
      ]
    },
    {
      "cell_type": "markdown",
      "metadata": {
        "id": "sXSmUbZRF28f"
      },
      "source": [
        "#### Choose The Best Degree"
      ]
    },
    {
      "cell_type": "code",
      "metadata": {
        "colab": {
          "background_save": true
        },
        "id": "xtwS9C-9F5Ie",
        "outputId": "66e871aa-f1cd-438b-c6d6-a9ce8b9054c3"
      },
      "source": [
        "# take only third degree polynomial\n",
        "df_processed = add_polynomial_features(df_processed, 3, False)\n",
        "logit = Model(LogisticRegression, df_processed, metrics)\n",
        "print_result(logit.grid_search('roc_auc', logit_grid), \"cross-validation\")\n",
        "print_result(logit.train_and_evaluate_test(), \"test set\")"
      ],
      "execution_count": null,
      "outputs": [
        {
          "output_type": "stream",
          "text": [
            "{'random_state': 29}\n",
            "| roc_auc: 0.8462 | accuracy: 0.8045 - cross-validation\n",
            "| roc_auc: 0.8472 | accuracy: 0.7930 - test set\n"
          ],
          "name": "stdout"
        }
      ]
    },
    {
      "cell_type": "markdown",
      "metadata": {
        "id": "OuU938wi3wwA"
      },
      "source": [
        "# Conclusion\n",
        "\n",
        "So, by using feature engineering, we can increase our ROC AUC score from 0.8414 to 0.8472 using Logistic Regression."
      ]
    }
  ]
}